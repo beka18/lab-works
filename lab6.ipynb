{
 "cells": [
  {
   "cell_type": "markdown",
   "id": "cac46fe5-40a1-4dd5-a685-6b0c69da883d",
   "metadata": {},
   "source": [
    "Python builtin functions exercises"
   ]
  },
  {
   "cell_type": "markdown",
   "id": "bdf68a52-8eb0-495b-bad9-fbc695c56860",
   "metadata": {},
   "source": [
    "ex1"
   ]
  },
  {
   "cell_type": "code",
   "execution_count": 4,
   "id": "462987f7-898c-40be-b8bf-87cdfb39f8a8",
   "metadata": {},
   "outputs": [
    {
     "name": "stdout",
     "output_type": "stream",
     "text": [
      "24\n"
     ]
    }
   ],
   "source": [
    "import math\n",
    "\n",
    "def multiply_list(lst):\n",
    "    return math.prod(lst)\n",
    "\n",
    "print(multiply_list([1, 2, 3, 4]))"
   ]
  },
  {
   "cell_type": "markdown",
   "id": "831594de-09c5-4f0f-8403-b730b92f1796",
   "metadata": {},
   "source": [
    "ex2"
   ]
  },
  {
   "cell_type": "code",
   "execution_count": 7,
   "id": "1ce9f08d-2140-467b-8a5e-f6fdfa47a7f0",
   "metadata": {},
   "outputs": [
    {
     "name": "stdout",
     "output_type": "stream",
     "text": [
      "(2, 8)\n"
     ]
    }
   ],
   "source": [
    "def count_case(s):\n",
    "    upper = sum(1 for c in s if c.isupper())\n",
    "    lower = sum(1 for c in s if c.islower())\n",
    "    return upper, lower\n",
    "\n",
    "print(count_case(\"Hello World\"))"
   ]
  },
  {
   "cell_type": "markdown",
   "id": "720e6c9d-8ec5-4cad-972d-1640a24ccaaf",
   "metadata": {},
   "source": [
    "ex3"
   ]
  },
  {
   "cell_type": "code",
   "execution_count": 11,
   "id": "060b53a8-9309-4561-ad0c-3dbce476eaad",
   "metadata": {},
   "outputs": [
    {
     "name": "stdout",
     "output_type": "stream",
     "text": [
      "True\n"
     ]
    }
   ],
   "source": [
    "def is_palindrome(s):\n",
    "    return s == s[::-1]\n",
    "\n",
    "print(is_palindrome(\"madam\"))"
   ]
  },
  {
   "cell_type": "raw",
   "id": "ea44efe0-30af-4290-8af3-c4291fc76037",
   "metadata": {},
   "source": [
    "ex4"
   ]
  },
  {
   "cell_type": "code",
   "execution_count": 15,
   "id": "8e7e2405-e731-46e5-b32d-ae8fde7661e6",
   "metadata": {},
   "outputs": [
    {
     "name": "stdout",
     "output_type": "stream",
     "text": [
      "158.42979517754858\n"
     ]
    }
   ],
   "source": [
    "import math\n",
    "import time\n",
    "\n",
    "def delayed_sqrt(number, delay_ms):\n",
    "    time.sleep(delay_ms / 1000)\n",
    "    return math.sqrt(number)\n",
    "\n",
    "print(delayed_sqrt(25100, 2123))"
   ]
  },
  {
   "cell_type": "markdown",
   "id": "8a231d8b-21dd-4b9c-accf-8fa37436082f",
   "metadata": {},
   "source": [
    "ex5"
   ]
  },
  {
   "cell_type": "code",
   "execution_count": 18,
   "id": "ce4b37c4-9030-4fe8-85d2-a1d6df099319",
   "metadata": {},
   "outputs": [
    {
     "name": "stdout",
     "output_type": "stream",
     "text": [
      "False\n"
     ]
    }
   ],
   "source": [
    "def all_true(tpl):\n",
    "    return all(tpl)\n",
    "\n",
    "print(all_true((True, True, False)))"
   ]
  },
  {
   "cell_type": "markdown",
   "id": "9abdd42a-674e-4d3c-b8ef-354cd0a9d1bf",
   "metadata": {},
   "source": [
    "Python Directories and Files exercises"
   ]
  },
  {
   "cell_type": "markdown",
   "id": "3ceeb667-998d-4a2f-8e0f-238c500085d2",
   "metadata": {},
   "source": [
    "ex1"
   ]
  },
  {
   "cell_type": "code",
   "execution_count": 22,
   "id": "ae3f9cfc-28ee-416d-b72d-17924f7da001",
   "metadata": {},
   "outputs": [
    {
     "name": "stdout",
     "output_type": "stream",
     "text": [
      "['.config', 'Music', '.condarc', 'file1.dSYM', '.DS_Store', '.CFUserTextEncoding', '.xonshrc', 'file2', 'anaconda_projects', '.zshrc', '.local', 'Pictures', '.zprofile', '.zsh_history', '.ipython', 'Desktop', 'Library', '.oracle_jre_usage', 'lab5', 'lab3', 'lab2.ipynb', 'file2.cpp', 'Public', '.zprofile.macports-saved_2024-09-07_at_11:21:36', 'cpp', '.tcshrc', 'lab6.ipynb', '.anaconda', 'Movies', 'Applications', 'lab4.ipynb', '.Trash', '.ipynb_checkpoints', '.jupyter', 'lab3.ipynb', 'Documents', '.vscode', 'lab1.ipynb', '.bash_profile', 'Downloads', 'lab5.ipynb', '.continuum', '.zsh_sessions', '.conda']\n"
     ]
    }
   ],
   "source": [
    "import os\n",
    "\n",
    "def list_files_dirs(path):\n",
    "    return os.listdir(path)\n",
    "\n",
    "print(list_files_dirs(\".\"))"
   ]
  },
  {
   "cell_type": "markdown",
   "id": "69da638e-a375-4596-8787-f05f013d03af",
   "metadata": {},
   "source": [
    "ex2"
   ]
  },
  {
   "cell_type": "code",
   "execution_count": 25,
   "id": "cf910658-a000-400f-8bed-d4dd2b4e3dce",
   "metadata": {},
   "outputs": [
    {
     "name": "stdout",
     "output_type": "stream",
     "text": [
      "(False, False, False, False)\n"
     ]
    }
   ],
   "source": [
    "import os\n",
    "\n",
    "def check_access(path):\n",
    "    return os.access(path, os.F_OK), os.access(path, os.R_OK), os.access(path, os.W_OK), os.access(path, os.X_OK)\n",
    "\n",
    "print(check_access(\"test.txt\"))"
   ]
  },
  {
   "cell_type": "markdown",
   "id": "a008ecfa-41cf-48a0-bea7-03e34f9156d5",
   "metadata": {},
   "source": [
    "ex3"
   ]
  },
  {
   "cell_type": "code",
   "execution_count": 28,
   "id": "a7e11c9d-5245-4ec0-87bb-ab5d1a1624a9",
   "metadata": {},
   "outputs": [
    {
     "name": "stdout",
     "output_type": "stream",
     "text": [
      "(False, 'example.txt', '')\n"
     ]
    }
   ],
   "source": [
    "import os\n",
    "\n",
    "def path_info(path):\n",
    "    return os.path.exists(path), os.path.basename(path), os.path.dirname(path)\n",
    "\n",
    "print(path_info(\"example.txt\"))"
   ]
  },
  {
   "cell_type": "markdown",
   "id": "8a15aece-9d5a-480c-8f6b-942e70feac6f",
   "metadata": {},
   "source": [
    "ex4"
   ]
  },
  {
   "cell_type": "code",
   "execution_count": 45,
   "id": "58a1f8bd-e799-4c25-bc62-e2390d293595",
   "metadata": {},
   "outputs": [
    {
     "name": "stdout",
     "output_type": "stream",
     "text": [
      "3\n"
     ]
    }
   ],
   "source": [
    "def count_lines(file_path):\n",
    "    with open(file_path, \"r\", encoding=\"utf-8\") as file:\n",
    "        return len(file.readlines())\n",
    "\n",
    "print(count_lines(\"sample.txt\"))"
   ]
  },
  {
   "cell_type": "markdown",
   "id": "419a46b8-ca8d-4a2c-97e8-4a63db8adf62",
   "metadata": {},
   "source": [
    "ex5"
   ]
  },
  {
   "cell_type": "code",
   "execution_count": 99,
   "id": "2810ba54-ec2f-48c7-a47c-0a1d2b02ddf3",
   "metadata": {},
   "outputs": [
    {
     "name": "stdout",
     "output_type": "stream",
     "text": [
      "Hello\n",
      "World\n",
      "Python\n",
      "File\n",
      "\n"
     ]
    }
   ],
   "source": [
    "def write_list_to_file(file_path, data):\n",
    "    with open(file_path, \"w\", encoding=\"utf-8\") as file:\n",
    "        file.writelines(\"\\n\".join(data) + \"\\n\")\n",
    "\n",
    "write_list_to_file(\"output.txt\", [\"Hello\", \"World\", \"Python\", \"File\"])\n",
    "\n",
    "with open(\"output.txt\", \"r\", encoding=\"utf-8\") as file:\n",
    "    print(file.read())  "
   ]
  },
  {
   "cell_type": "markdown",
   "id": "35efcd94-408c-4b73-8efb-5b549885fb35",
   "metadata": {},
   "source": [
    "ex6"
   ]
  },
  {
   "cell_type": "code",
   "execution_count": 107,
   "id": "87ce143d-2bda-481c-b361-f9264413e72c",
   "metadata": {},
   "outputs": [
    {
     "name": "stdout",
     "output_type": "stream",
     "text": [
      "Files created: ['J.txt', 'K.txt', 'I.txt', 'H.txt', 'L.txt', 'Z.txt', 'M.txt', 'O.txt', 'X.txt', 'Y.txt', 'N.txt', 'C.txt', 'T.txt', 'U.txt', 'B.txt', 'W.txt', 'V.txt', 'A.txt', 'R.txt', 'E.txt', 'D.txt', 'S.txt', 'Q.txt', 'F.txt', 'G.txt', 'P.txt']\n"
     ]
    }
   ],
   "source": [
    "import os\n",
    "import string\n",
    "\n",
    "def generate_text_files(folder):\n",
    "    os.makedirs(folder, exist_ok=True)\n",
    "    for letter in string.ascii_uppercase:\n",
    "        with open(os.path.join(folder, f\"{letter}.txt\"), \"w\", encoding=\"utf-8\") as file:\n",
    "            file.write(f\"This is {letter}.txt\\n\")\n",
    "\n",
    "generate_text_files(\"test_folder\")\n",
    "\n",
    "print(\"Files created:\", os.listdir(\"test_folder\"))"
   ]
  },
  {
   "cell_type": "markdown",
   "id": "6e189b31-ba04-4758-b7f6-ebfd30006c39",
   "metadata": {},
   "source": [
    "ex7"
   ]
  },
  {
   "cell_type": "code",
   "execution_count": 110,
   "id": "b368f04c-0e05-4d8e-bcc5-3077fdc0d6f1",
   "metadata": {},
   "outputs": [
    {
     "name": "stdout",
     "output_type": "stream",
     "text": [
      "File successfully copied.\n",
      "Hello\n",
      "World\n",
      "Python\n",
      "File\n",
      "\n"
     ]
    }
   ],
   "source": [
    "import shutil\n",
    "\n",
    "def copy_file(source, destination):\n",
    "    if os.path.exists(source):\n",
    "        shutil.copy(source, destination)\n",
    "        return \"File successfully copied.\"\n",
    "    return \"Source file not found.\"\n",
    "\n",
    "write_list_to_file(\"output.txt\", [\"Hello\", \"World\", \"Python\", \"File\"])\n",
    "print(copy_file(\"output.txt\", \"copy_output.txt\"))\n",
    "\n",
    "with open(\"copy_output.txt\", \"r\", encoding=\"utf-8\") as file:\n",
    "    print(file.read())  "
   ]
  },
  {
   "cell_type": "markdown",
   "id": "d3d89411-05fa-4d57-b67c-c480571877ac",
   "metadata": {},
   "source": [
    "ex8"
   ]
  },
  {
   "cell_type": "code",
   "execution_count": 113,
   "id": "933db27c-f2b8-48f8-b356-64832e84a258",
   "metadata": {},
   "outputs": [
    {
     "name": "stdout",
     "output_type": "stream",
     "text": [
      "File deleted.\n"
     ]
    }
   ],
   "source": [
    "import os\n",
    "\n",
    "def delete_file(file_path):\n",
    "    if os.path.exists(file_path):\n",
    "        os.remove(file_path)\n",
    "        return \"File deleted.\"\n",
    "    return \"File not found.\"\n",
    "\n",
    "print(delete_file(\"copy_output.txt\"))"
   ]
  }
 ],
 "metadata": {
  "kernelspec": {
   "display_name": "Python [conda env:base] *",
   "language": "python",
   "name": "conda-base-py"
  },
  "language_info": {
   "codemirror_mode": {
    "name": "ipython",
    "version": 3
   },
   "file_extension": ".py",
   "mimetype": "text/x-python",
   "name": "python",
   "nbconvert_exporter": "python",
   "pygments_lexer": "ipython3",
   "version": "3.12.7"
  }
 },
 "nbformat": 4,
 "nbformat_minor": 5
}

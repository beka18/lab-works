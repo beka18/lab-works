{
 "cells": [
  {
   "cell_type": "markdown",
   "id": "5269b6bc-b0d3-4cf3-b347-9f3ca55f7453",
   "metadata": {},
   "source": [
    "Lab 4 "
   ]
  },
  {
   "cell_type": "markdown",
   "id": "1df3d3be-5b09-4f2b-bf32-aa80d63af7a8",
   "metadata": {},
   "source": [
    "# Python date"
   ]
  },
  {
   "cell_type": "markdown",
   "id": "aeb19445-6785-4b9e-97f3-5dd600c88fbb",
   "metadata": {},
   "source": [
    "Ex1"
   ]
  },
  {
   "cell_type": "code",
   "execution_count": 10,
   "id": "ee48d196-2594-4e8f-8ba6-0a6393505eaa",
   "metadata": {},
   "outputs": [
    {
     "name": "stdout",
     "output_type": "stream",
     "text": [
      "2025-02-17\n"
     ]
    }
   ],
   "source": [
    "from datetime import datetime, timedelta\n",
    "\n",
    "new_date = datetime.now() - timedelta(days=0)\n",
    "                                    \n",
    "print(new_date.date())"
   ]
  },
  {
   "cell_type": "markdown",
   "id": "59163f9f-3cf6-45de-88ae-5d59bb3cbacf",
   "metadata": {},
   "source": [
    "ex2"
   ]
  },
  {
   "cell_type": "code",
   "execution_count": 12,
   "id": "b194966a-f8f7-40a8-a02f-6d3473d4bff9",
   "metadata": {},
   "outputs": [
    {
     "name": "stdout",
     "output_type": "stream",
     "text": [
      "Yesterday: 2025-02-16\n",
      "Today: 2025-02-17\n",
      "Tomorrow: 2025-02-18\n"
     ]
    }
   ],
   "source": [
    "from datetime import datetime, timedelta\n",
    "\n",
    "today = datetime.now().date()\n",
    "yesterday = today - timedelta(days=1)\n",
    "tomorrow = today + timedelta(days=1)\n",
    "\n",
    "print(\"Yesterday:\", yesterday)\n",
    "print(\"Today:\", today)\n",
    "print(\"Tomorrow:\", tomorrow)"
   ]
  },
  {
   "cell_type": "markdown",
   "id": "0c2b59d8-5f86-48d3-9860-af1eb6f81cc0",
   "metadata": {},
   "source": [
    "ex3"
   ]
  },
  {
   "cell_type": "code",
   "execution_count": 14,
   "id": "3e619f4d-adf6-4746-9e28-dc7eace206ac",
   "metadata": {},
   "outputs": [
    {
     "name": "stdout",
     "output_type": "stream",
     "text": [
      "2025-02-17 09:15:34\n"
     ]
    }
   ],
   "source": [
    "from datetime import datetime\n",
    "\n",
    "current_time = datetime.now().replace(microsecond=0)\n",
    "print(current_time)"
   ]
  },
  {
   "cell_type": "markdown",
   "id": "6938d63a-d29f-4aee-98d0-491a941fc387",
   "metadata": {},
   "source": [
    "ex4"
   ]
  },
  {
   "cell_type": "code",
   "execution_count": 17,
   "id": "d77ceece-cee3-4a56-b2ee-a7c1004e7b40",
   "metadata": {},
   "outputs": [
    {
     "name": "stdout",
     "output_type": "stream",
     "text": [
      "Difference in seconds: 604800.0\n"
     ]
    }
   ],
   "source": [
    "from datetime import datetime\n",
    "\n",
    "date1 = datetime(2025, 2, 10, 12, 0, 0)\n",
    "date2 = datetime(2025, 2, 17, 12, 0, 0)\n",
    "\n",
    "difference = (date2 - date1).total_seconds()\n",
    "\n",
    "print(\"Difference in seconds:\", difference)"
   ]
  },
  {
   "cell_type": "markdown",
   "id": "175bf69a-c2f1-42a4-8f41-63ce7b87ad9f",
   "metadata": {},
   "source": [
    "# Python iterators and generators"
   ]
  },
  {
   "cell_type": "markdown",
   "id": "410c8fff-28a8-4846-bb9f-e83297a8877d",
   "metadata": {},
   "source": [
    "ex1"
   ]
  },
  {
   "cell_type": "code",
   "execution_count": 21,
   "id": "97341aef-e277-43cb-bb85-a1e480f4c41b",
   "metadata": {},
   "outputs": [
    {
     "name": "stdout",
     "output_type": "stream",
     "text": [
      "1\n",
      "4\n",
      "9\n",
      "16\n",
      "25\n",
      "36\n",
      "49\n",
      "64\n",
      "81\n",
      "100\n"
     ]
    }
   ],
   "source": [
    "def square_generator(N):\n",
    "    for i in range(1, N+1):\n",
    "        yield i**2\n",
    "\n",
    "# Example usage\n",
    "for square in square_generator(10):\n",
    "    print(square)"
   ]
  },
  {
   "cell_type": "markdown",
   "id": "e8096406-0550-486b-94a7-fee1ce97d165",
   "metadata": {},
   "source": [
    "ex2"
   ]
  },
  {
   "cell_type": "code",
   "execution_count": 24,
   "id": "de8662da-7875-481d-9b22-51d87541647d",
   "metadata": {},
   "outputs": [
    {
     "name": "stdin",
     "output_type": "stream",
     "text": [
      "Enter a number:  16\n"
     ]
    },
    {
     "name": "stdout",
     "output_type": "stream",
     "text": [
      "0,2,4,6,8,10,12,14,16\n"
     ]
    }
   ],
   "source": [
    "def even_numbers(n):\n",
    "    for i in range(0, n+1, 2):\n",
    "        yield str(i)\n",
    "\n",
    "n = int(input(\"Enter a number: \"))\n",
    "\n",
    "print(\",\".join(even_numbers(n)))"
   ]
  },
  {
   "cell_type": "markdown",
   "id": "36384b8c-9e00-4aef-af1d-ea27f18e37b4",
   "metadata": {},
   "source": [
    "ex3"
   ]
  },
  {
   "cell_type": "code",
   "execution_count": 29,
   "id": "9223b1ad-4d97-4bb5-8e71-88e71ab896d3",
   "metadata": {},
   "outputs": [
    {
     "name": "stdin",
     "output_type": "stream",
     "text": [
      "Enter a number:  23\n"
     ]
    },
    {
     "name": "stdout",
     "output_type": "stream",
     "text": [
      "0\n",
      "12\n"
     ]
    }
   ],
   "source": [
    "def divisible_by_3_and_4(n):\n",
    "    for i in range(n+1):\n",
    "        if i % 3 == 0 and i % 4 == 0:\n",
    "            yield i\n",
    "\n",
    "n = int(input(\"Enter a number: \"))\n",
    "\n",
    "for number in divisible_by_3_and_4(n):\n",
    "    print(number)"
   ]
  },
  {
   "cell_type": "markdown",
   "id": "813fda2f-3067-47cb-b91c-a2d7b51d31a1",
   "metadata": {},
   "source": [
    "ex4"
   ]
  },
  {
   "cell_type": "code",
   "execution_count": 38,
   "id": "5eda305c-6fbc-41df-89b0-5dc49503e761",
   "metadata": {},
   "outputs": [
    {
     "name": "stdin",
     "output_type": "stream",
     "text": [
      "Enter the starting number:  4\n",
      "Enter the ending number:  5\n"
     ]
    },
    {
     "name": "stdout",
     "output_type": "stream",
     "text": [
      "16\n",
      "25\n"
     ]
    }
   ],
   "source": [
    "def squares(a, b):\n",
    "    for i in range(a, b+1):\n",
    "        yield i**2\n",
    "\n",
    "a = int(input(\"Enter the starting number: \"))\n",
    "b = int(input(\"Enter the ending number: \"))\n",
    "\n",
    "for square in squares(a, b):\n",
    "    print(square)"
   ]
  },
  {
   "cell_type": "markdown",
   "id": "7b532852-7a8b-481f-8187-343eae7bffc8",
   "metadata": {},
   "source": [
    "ex5"
   ]
  },
  {
   "cell_type": "code",
   "execution_count": 43,
   "id": "5f9d8177-c886-457b-a35d-e996fe761d42",
   "metadata": {},
   "outputs": [
    {
     "name": "stdin",
     "output_type": "stream",
     "text": [
      "Enter a number:  5\n"
     ]
    },
    {
     "name": "stdout",
     "output_type": "stream",
     "text": [
      "5\n",
      "4\n",
      "3\n",
      "2\n",
      "1\n",
      "0\n"
     ]
    }
   ],
   "source": [
    "def countdown(n):\n",
    "    for i in range(n, -1, -1):\n",
    "        yield i\n",
    "\n",
    "n = int(input(\"Enter a number: \"))\n",
    "\n",
    "for number in countdown(n):\n",
    "    print(number)"
   ]
  },
  {
   "cell_type": "markdown",
   "id": "83c388ea-379b-48d3-820a-c76bb7d8aeda",
   "metadata": {},
   "source": [
    "# Python math library"
   ]
  },
  {
   "cell_type": "markdown",
   "id": "8c42566e-5969-4be6-89bf-13c0b5a923ba",
   "metadata": {},
   "source": [
    "ex1"
   ]
  },
  {
   "cell_type": "code",
   "execution_count": 47,
   "id": "0ea0a01b-dfc0-48a9-92ab-07dbe89ed400",
   "metadata": {},
   "outputs": [
    {
     "name": "stdin",
     "output_type": "stream",
     "text": [
      "Enter angle in degrees:  5\n"
     ]
    },
    {
     "name": "stdout",
     "output_type": "stream",
     "text": [
      "0.08726646259971647\n"
     ]
    }
   ],
   "source": [
    "import math\n",
    "\n",
    "degree = float(input(\"Enter angle in degrees: \"))\n",
    "radian = degree * math.pi / 180\n",
    "print(radian)"
   ]
  },
  {
   "cell_type": "markdown",
   "id": "2557a609-9f66-48df-9350-5c46c502194e",
   "metadata": {},
   "source": [
    "ex2"
   ]
  },
  {
   "cell_type": "code",
   "execution_count": 2,
   "id": "9473fec0-6638-49e9-b108-e8e94f18a2d6",
   "metadata": {},
   "outputs": [
    {
     "name": "stdin",
     "output_type": "stream",
     "text": [
      "Height:  5\n",
      "Base, first value:  5\n",
      "Base, second value:  6\n"
     ]
    },
    {
     "name": "stdout",
     "output_type": "stream",
     "text": [
      "The area of the trapezoid is: 27.5\n"
     ]
    }
   ],
   "source": [
    "def calculate_trapezoid_area(b1, b2, h):\n",
    "    return 0.5 * (b1 + b2) * h\n",
    "\n",
    "h = float(input(\"Height: \"))\n",
    "b1 = float(input(\"Base, first value: \"))\n",
    "b2 = float(input(\"Base, second value: \"))\n",
    "\n",
    "area = calculate_trapezoid_area(b1, b2, h)\n",
    "print(f\"The area of the trapezoid is: {area}\")"
   ]
  },
  {
   "cell_type": "markdown",
   "id": "00de1882-9144-4ade-9742-f53eefd86686",
   "metadata": {},
   "source": [
    "ex3"
   ]
  },
  {
   "cell_type": "code",
   "execution_count": 5,
   "id": "efd27c18-d4cd-4e23-966b-20b11bef5f29",
   "metadata": {},
   "outputs": [
    {
     "name": "stdin",
     "output_type": "stream",
     "text": [
      "Input number of sides:  4\n",
      "Input the length of a side:  25\n"
     ]
    },
    {
     "name": "stdout",
     "output_type": "stream",
     "text": [
      "The area of the polygon is: 625.0\n"
     ]
    }
   ],
   "source": [
    "def calculate_polygon_area(num_sides, side_length):\n",
    "    if num_sides == 4:\n",
    "        return side_length ** 2  # Square formula for 4 sides\n",
    "    import math\n",
    "    return (num_sides * side_length**2) / (4 * math.tan(math.pi / num_sides))\n",
    "\n",
    "num_sides = int(input(\"Input number of sides: \"))\n",
    "side_length = float(input(\"Input the length of a side: \"))\n",
    "\n",
    "area = calculate_polygon_area(num_sides, side_length)\n",
    "print(f\"The area of the polygon is: {area}\")4"
   ]
  },
  {
   "cell_type": "markdown",
   "id": "86801311-3bf3-49d4-a5fa-fad585afce6f",
   "metadata": {},
   "source": [
    "ex4"
   ]
  },
  {
   "cell_type": "code",
   "execution_count": 8,
   "id": "642d8c85-b007-4efd-a19e-2278c1f03ff6",
   "metadata": {},
   "outputs": [
    {
     "name": "stdin",
     "output_type": "stream",
     "text": [
      "Length of base:  5\n",
      "Height of parallelogram:  6\n"
     ]
    },
    {
     "name": "stdout",
     "output_type": "stream",
     "text": [
      "The area of the parallelogram is: 30.0\n"
     ]
    }
   ],
   "source": [
    "def parallelogram_area(base, height):\n",
    "    return base * height\n",
    "\n",
    "base = float(input(\"Length of base: \"))\n",
    "height = float(input(\"Height of parallelogram: \"))\n",
    "\n",
    "area = parallelogram_area(base, height)\n",
    "print(f\"The area of the parallelogram is: {area}\")"
   ]
  },
  {
   "cell_type": "markdown",
   "id": "e9b20b38-0538-4eff-a5c1-505aff496c3a",
   "metadata": {},
   "source": [
    "Python json"
   ]
  },
  {
   "cell_type": "code",
   "execution_count": null,
   "id": "912cfae7-3553-4e81-b957-d6c82972fb3e",
   "metadata": {},
   "outputs": [],
   "source": []
  }
 ],
 "metadata": {
  "kernelspec": {
   "display_name": "Python [conda env:base] *",
   "language": "python",
   "name": "conda-base-py"
  },
  "language_info": {
   "codemirror_mode": {
    "name": "ipython",
    "version": 3
   },
   "file_extension": ".py",
   "mimetype": "text/x-python",
   "name": "python",
   "nbconvert_exporter": "python",
   "pygments_lexer": "ipython3",
   "version": "3.12.7"
  }
 },
 "nbformat": 4,
 "nbformat_minor": 5
}

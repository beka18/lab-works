{
 "cells": [
  {
   "cell_type": "markdown",
   "id": "d18cc6a5-0487-4dbd-9607-a1f61dea2ddf",
   "metadata": {},
   "source": [
    "Ex1"
   ]
  },
  {
   "cell_type": "code",
   "execution_count": 3,
   "id": "e3f610b2-dc4d-4b83-9fe2-5dd6c94c514a",
   "metadata": {},
   "outputs": [
    {
     "name": "stdout",
     "output_type": "stream",
     "text": [
      "b is not greater than a\n"
     ]
    }
   ],
   "source": [
    "a = 200\n",
    "b = 33\n",
    "\n",
    "if b > a:\n",
    "  print(\"b is greater than a\")\n",
    "else:\n",
    "  print(\"b is not greater than a\")\n"
   ]
  },
  {
   "cell_type": "markdown",
   "id": "a96c402e-97cd-4aad-827c-6757d97f5c57",
   "metadata": {},
   "source": [
    "Ex2"
   ]
  },
  {
   "cell_type": "code",
   "execution_count": 6,
   "id": "2d3a3c84-edac-468b-95b0-e3c9d56543bc",
   "metadata": {},
   "outputs": [
    {
     "name": "stdout",
     "output_type": "stream",
     "text": [
      "True\n",
      "True\n"
     ]
    }
   ],
   "source": [
    "x = \"Hello\"\n",
    "y = 15\n",
    "\n",
    "print(bool(x))\n",
    "print(bool(y))"
   ]
  },
  {
   "cell_type": "markdown",
   "id": "374b6095-b6cd-4c69-8e97-b4fffb59a522",
   "metadata": {},
   "source": [
    "Ex3"
   ]
  },
  {
   "cell_type": "code",
   "execution_count": 12,
   "id": "d3c438fc-0546-42c7-9539-79a756511982",
   "metadata": {},
   "outputs": [
    {
     "name": "stdout",
     "output_type": "stream",
     "text": [
      "['apple', 'banana', 'cherry', 'apple', 'cherry']\n"
     ]
    }
   ],
   "source": [
    "thislist = [\"apple\", \"banana\", \"cherry\", \"apple\", \"cherry\"]\n",
    "\n",
    "print(thislist)"
   ]
  },
  {
   "cell_type": "markdown",
   "id": "d60a7ee9-3e8c-4c96-9faf-463875bca695",
   "metadata": {},
   "source": [
    "Ex4"
   ]
  },
  {
   "cell_type": "code",
   "execution_count": 17,
   "id": "b086a8b9-13ee-4e70-8427-2e81bf71928a",
   "metadata": {},
   "outputs": [
    {
     "name": "stdout",
     "output_type": "stream",
     "text": [
      "3\n"
     ]
    }
   ],
   "source": [
    "thislist = [\"apple\", \"banana\", \"cherry\"]\n",
    "print(len(thislist)) "
   ]
  },
  {
   "cell_type": "markdown",
   "id": "691245ef-1666-4d2e-b711-32437be29948",
   "metadata": {},
   "source": [
    "Ex5"
   ]
  },
  {
   "cell_type": "code",
   "execution_count": 20,
   "id": "55d77822-aa12-4278-8de7-e98e13fc6a78",
   "metadata": {},
   "outputs": [
    {
     "name": "stdout",
     "output_type": "stream",
     "text": [
      "['apple', 'banana', 'cherry']\n",
      "[1, 5, 7, 9, 3]\n",
      "[True, False, False]\n"
     ]
    }
   ],
   "source": [
    "list1 = [\"apple\", \"banana\", \"cherry\"]\n",
    "list2 = [1, 5, 7, 9, 3]\n",
    "list3 = [True, False, False]\n",
    "\n",
    "print(list1)\n",
    "print(list2)\n",
    "print(list3)\n"
   ]
  },
  {
   "cell_type": "markdown",
   "id": "031c2d2f-e373-4559-862e-cc1e7a13d940",
   "metadata": {},
   "source": [
    "Ex6"
   ]
  },
  {
   "cell_type": "code",
   "execution_count": 23,
   "id": "a02f3835-282d-472c-9bb8-affe7a516e8c",
   "metadata": {},
   "outputs": [
    {
     "name": "stdout",
     "output_type": "stream",
     "text": [
      "<class 'list'>\n"
     ]
    }
   ],
   "source": [
    "mylist = [\"apple\", \"banana\", \"cherry\"]\n",
    "\n",
    "print(type(mylist))"
   ]
  },
  {
   "cell_type": "markdown",
   "id": "3e98f32b-6225-47bd-ada6-b10ae5c96c2b",
   "metadata": {},
   "source": [
    "Ex7"
   ]
  },
  {
   "cell_type": "code",
   "execution_count": 26,
   "id": "87c3cade-a89e-4495-a080-232037154155",
   "metadata": {},
   "outputs": [
    {
     "name": "stdout",
     "output_type": "stream",
     "text": [
      "['apple', 'blackcurrant', 'watermelon', 'orange', 'kiwi', 'mango']\n"
     ]
    }
   ],
   "source": [
    "thislist = [\"apple\", \"banana\", \"cherry\", \"orange\", \"kiwi\", \"mango\"]\n",
    "\n",
    "thislist[1:3] = [\"blackcurrant\", \"watermelon\"]\n",
    "\n",
    "print(thislist)"
   ]
  },
  {
   "cell_type": "markdown",
   "id": "11d27288-365b-4fe1-9d14-473d726265c5",
   "metadata": {},
   "source": [
    "Ex8"
   ]
  },
  {
   "cell_type": "code",
   "execution_count": 29,
   "id": "46e2b408-a7f5-4834-836f-12011f12e1f2",
   "metadata": {},
   "outputs": [
    {
     "name": "stdout",
     "output_type": "stream",
     "text": [
      "['apple', 'banana', 'watermelon', 'cherry']\n"
     ]
    }
   ],
   "source": [
    "thislist = [\"apple\", \"banana\", \"cherry\"]\n",
    "\n",
    "thislist.insert(2, \"watermelon\")\n",
    "\n",
    "print(thislist) "
   ]
  },
  {
   "cell_type": "markdown",
   "id": "cb4d0042-a6f0-4ed6-9a31-a6227d75361a",
   "metadata": {},
   "source": [
    "Ex9"
   ]
  },
  {
   "cell_type": "code",
   "execution_count": 67,
   "id": "609457ca-aeb7-40d4-9ab0-a8b177c4751e",
   "metadata": {},
   "outputs": [
    {
     "name": "stdout",
     "output_type": "stream",
     "text": [
      "['apple', 'banana', 'cherry', 'orange']\n"
     ]
    }
   ],
   "source": [
    "thislist = [\"apple\", \"banana\", \"cherry\"]\n",
    "\n",
    "thislist.append(\"orange\")\n",
    "\n",
    "print(thislist)"
   ]
  },
  {
   "cell_type": "markdown",
   "id": "41705be0-4d60-498f-9d2b-6200b4e5f131",
   "metadata": {},
   "source": [
    "Ex10"
   ]
  },
  {
   "cell_type": "code",
   "execution_count": 69,
   "id": "d3854f23-1694-4109-b574-53035cfd711d",
   "metadata": {},
   "outputs": [
    {
     "name": "stdout",
     "output_type": "stream",
     "text": [
      "['apple', 'banana', 'cherry', 'mango', 'pineapple', 'papaya']\n"
     ]
    }
   ],
   "source": [
    "thislist = [\"apple\", \"banana\", \"cherry\"]\n",
    "tropical = [\"mango\", \"pineapple\", \"papaya\"]\n",
    "\n",
    "thislist.extend(tropical)\n",
    "\n",
    "print(thislist)"
   ]
  },
  {
   "cell_type": "markdown",
   "id": "ccf5327e-9cc1-4582-a7af-711b35c6895e",
   "metadata": {},
   "source": [
    "Ex11"
   ]
  },
  {
   "cell_type": "code",
   "execution_count": 71,
   "id": "bc38378e-c560-41a8-b882-083ab71ab607",
   "metadata": {},
   "outputs": [
    {
     "name": "stdout",
     "output_type": "stream",
     "text": [
      "['apple', 'banana', 'cherry', 'kiwi', 'orange']\n"
     ]
    }
   ],
   "source": [
    "thislist = [\"apple\", \"banana\", \"cherry\"]\n",
    "thistuple = (\"kiwi\", \"orange\")\n",
    "\n",
    "thislist.extend(thistuple)\n",
    "\n",
    "print(thislist) \n"
   ]
  },
  {
   "cell_type": "markdown",
   "id": "0bde283d-029c-4831-a0b6-e46164e38332",
   "metadata": {},
   "source": [
    "Ex12"
   ]
  },
  {
   "cell_type": "code",
   "execution_count": 73,
   "id": "bc913958-91d2-4f69-ae0c-5b9341d1ba30",
   "metadata": {},
   "outputs": [
    {
     "name": "stdout",
     "output_type": "stream",
     "text": [
      "apple\n",
      "banana\n",
      "cherry\n"
     ]
    }
   ],
   "source": [
    "thislist = [\"apple\", \"banana\", \"cherry\"]\n",
    "for x in thislist:\n",
    "  print(x)"
   ]
  },
  {
   "cell_type": "markdown",
   "id": "4c1fe307-bf9f-4f4e-a37c-ada98090d1bc",
   "metadata": {},
   "source": [
    "Ex13"
   ]
  },
  {
   "cell_type": "code",
   "execution_count": 75,
   "id": "a945c0b0-732d-4f77-83ee-ffe8880f0fae",
   "metadata": {},
   "outputs": [
    {
     "name": "stdout",
     "output_type": "stream",
     "text": [
      "apple\n",
      "banana\n",
      "cherry\n"
     ]
    }
   ],
   "source": [
    "thislist = [\"apple\", \"banana\", \"cherry\"]\n",
    "i = 0\n",
    "while i < len(thislist):\n",
    "  print(thislist[i])\n",
    "  i = i + 1"
   ]
  },
  {
   "cell_type": "markdown",
   "id": "dfebc831-ab3b-4d44-b259-cef5ba3c515d",
   "metadata": {},
   "source": [
    "Ex14"
   ]
  },
  {
   "cell_type": "code",
   "execution_count": 77,
   "id": "f92458d9-e33a-478c-9aaa-ea14e994982b",
   "metadata": {},
   "outputs": [
    {
     "name": "stdout",
     "output_type": "stream",
     "text": [
      "['apple', 'banana', 'mango']\n"
     ]
    }
   ],
   "source": [
    "fruits = [\"apple\", \"banana\", \"cherry\", \"kiwi\", \"mango\"]\n",
    "newlist = []\n",
    "\n",
    "for x in fruits:\n",
    "  if \"a\" in x:\n",
    "    newlist.append(x)\n",
    "\n",
    "print(newlist)"
   ]
  },
  {
   "cell_type": "markdown",
   "id": "a3cff754-56e1-4a10-9742-d4fcafefc46f",
   "metadata": {},
   "source": [
    "Ex15"
   ]
  },
  {
   "cell_type": "code",
   "execution_count": 79,
   "id": "c3699996-7dd3-4c83-b8e1-eb65e6ec366a",
   "metadata": {},
   "outputs": [
    {
     "name": "stdout",
     "output_type": "stream",
     "text": [
      "['banana', 'cherry', 'kiwi', 'mango']\n"
     ]
    }
   ],
   "source": [
    "fruits = [\"apple\", \"banana\", \"cherry\", \"kiwi\", \"mango\"]\n",
    "\n",
    "newlist = [x for x in fruits if x != \"apple\"]\n",
    "\n",
    "print(newlist)"
   ]
  },
  {
   "cell_type": "markdown",
   "id": "1805985c-1d1b-4d1d-a46f-c15451d11d0e",
   "metadata": {},
   "source": [
    "Ex16"
   ]
  },
  {
   "cell_type": "code",
   "execution_count": 81,
   "id": "8ff88f75-72d5-4f73-8a34-3743678959b0",
   "metadata": {},
   "outputs": [
    {
     "name": "stdout",
     "output_type": "stream",
     "text": [
      "[0, 1, 2, 3, 4, 5, 6, 7, 8, 9]\n"
     ]
    }
   ],
   "source": [
    "newlist = [x for x in range(10)]\n",
    "\n",
    "print(newlist)"
   ]
  },
  {
   "cell_type": "markdown",
   "id": "26e1fe52-53d2-4e21-a1f5-097b4e32451b",
   "metadata": {},
   "source": [
    "Ex17"
   ]
  },
  {
   "cell_type": "code",
   "execution_count": 83,
   "id": "f2696f64-cde3-45f2-8321-67b166b43fe7",
   "metadata": {},
   "outputs": [
    {
     "name": "stdout",
     "output_type": "stream",
     "text": [
      "[100, 82, 65, 50, 23]\n"
     ]
    }
   ],
   "source": [
    "thislist = [100, 50, 65, 82, 23]\n",
    "\n",
    "thislist.sort(reverse = True)\n",
    "\n",
    "print(thislist)"
   ]
  },
  {
   "cell_type": "markdown",
   "id": "84893457-8bc0-4661-9991-5218c7ce17c9",
   "metadata": {},
   "source": [
    "Ex18"
   ]
  },
  {
   "cell_type": "code",
   "execution_count": 85,
   "id": "5fc53a9c-07c5-4be4-86e3-ad500d2044af",
   "metadata": {},
   "outputs": [
    {
     "name": "stdout",
     "output_type": "stream",
     "text": [
      "[50, 65, 23, 82, 100]\n"
     ]
    }
   ],
   "source": [
    "def myfunc(n):\n",
    "  return abs(n - 50)\n",
    "\n",
    "thislist = [100, 50, 65, 82, 23]\n",
    "\n",
    "thislist.sort(key = myfunc)\n",
    "\n",
    "print(thislist)"
   ]
  },
  {
   "cell_type": "markdown",
   "id": "5a48b669-3107-442d-9781-d64540288a0d",
   "metadata": {},
   "source": [
    "Ex19"
   ]
  },
  {
   "cell_type": "code",
   "execution_count": 87,
   "id": "dd303e3c-90a5-4b97-8061-3fe28563fdac",
   "metadata": {},
   "outputs": [
    {
     "name": "stdout",
     "output_type": "stream",
     "text": [
      "['a', 'b', 'c', 1, 2, 3]\n"
     ]
    }
   ],
   "source": [
    "list1 = [\"a\", \"b\" , \"c\"]\n",
    "list2 = [1, 2, 3]\n",
    "\n",
    "for x in list2:\n",
    "  list1.append(x)\n",
    "\n",
    "print(list1)"
   ]
  },
  {
   "cell_type": "markdown",
   "id": "a370ebfa-8d78-4203-8f16-d47716ad19c8",
   "metadata": {},
   "source": [
    "Ex20"
   ]
  },
  {
   "cell_type": "code",
   "execution_count": 134,
   "id": "af6c21bb-bd6c-43a0-b150-f1898d7311a1",
   "metadata": {},
   "outputs": [
    {
     "name": "stdout",
     "output_type": "stream",
     "text": [
      "{'apple', False, True, 'cherry', 'banana'}\n"
     ]
    }
   ],
   "source": [
    "thisset = {\"apple\", \"banana\", \"cherry\", False, True, 0}\n",
    "\n",
    "print(thisset)"
   ]
  },
  {
   "cell_type": "markdown",
   "id": "5c8f4034-4813-4544-8a86-78b68545bb9a",
   "metadata": {},
   "source": [
    "Ex21"
   ]
  },
  {
   "cell_type": "code",
   "execution_count": 136,
   "id": "8b0b5ee6-13bd-44bb-afa4-e84099886b20",
   "metadata": {},
   "outputs": [
    {
     "name": "stdout",
     "output_type": "stream",
     "text": [
      "{'apple', 'cherry', 'banana'}\n",
      "{1, 3, 5, 7, 9}\n",
      "{False, True}\n"
     ]
    }
   ],
   "source": [
    "set1 = {\"apple\", \"banana\", \"cherry\"}\n",
    "set2 = {1, 5, 7, 9, 3}\n",
    "set3 = {True, False, False}\n",
    "\n",
    "print(set1)\n",
    "print(set2)\n",
    "print(set3)"
   ]
  },
  {
   "cell_type": "markdown",
   "id": "8d48dc81-32a2-4bb2-9eaf-09670c9422e5",
   "metadata": {},
   "source": [
    "Ex22"
   ]
  },
  {
   "cell_type": "code",
   "execution_count": 138,
   "id": "05da9e80-9bbf-4e3c-8122-0f886a8442ea",
   "metadata": {},
   "outputs": [
    {
     "name": "stdout",
     "output_type": "stream",
     "text": [
      "{'apple', 'cherry', 'banana'}\n"
     ]
    }
   ],
   "source": [
    "thisset = set((\"apple\", \"banana\", \"cherry\"))\n",
    "print(thisset)"
   ]
  },
  {
   "cell_type": "markdown",
   "id": "6fe56073-9c4f-463e-bc84-dc7623f427dd",
   "metadata": {},
   "source": [
    "Ex23"
   ]
  },
  {
   "cell_type": "code",
   "execution_count": 140,
   "id": "1ef3cad7-52f6-46d0-955c-e5228115eb2a",
   "metadata": {},
   "outputs": [
    {
     "name": "stdout",
     "output_type": "stream",
     "text": [
      "False\n"
     ]
    }
   ],
   "source": [
    "thisset = {\"apple\", \"banana\", \"cherry\"}\n",
    "\n",
    "print(\"banana\" not in thisset)"
   ]
  },
  {
   "cell_type": "markdown",
   "id": "2100f0d2-8972-4a38-a8a4-8a5158d28418",
   "metadata": {},
   "source": [
    "Ex24"
   ]
  },
  {
   "cell_type": "code",
   "execution_count": 142,
   "id": "51f93cba-0bda-4795-911f-d91524ca0131",
   "metadata": {},
   "outputs": [
    {
     "name": "stdout",
     "output_type": "stream",
     "text": [
      "{'apple', 'papaya', 'pineapple', 'mango', 'cherry', 'banana'}\n"
     ]
    }
   ],
   "source": [
    "thisset = {\"apple\", \"banana\", \"cherry\"}\n",
    "tropical = {\"pineapple\", \"mango\", \"papaya\"}\n",
    "\n",
    "thisset.update(tropical)\n",
    "\n",
    "print(thisset)"
   ]
  },
  {
   "cell_type": "markdown",
   "id": "7dc50540-8da3-492e-be91-27f526fa804d",
   "metadata": {},
   "source": [
    "Ex25"
   ]
  },
  {
   "cell_type": "code",
   "execution_count": 144,
   "id": "c57180f6-455c-456f-bc5d-5c913be2075a",
   "metadata": {},
   "outputs": [
    {
     "name": "stdout",
     "output_type": "stream",
     "text": [
      "{'brand': 'Ford', 'model': 'Mustang', 'year': 1964}\n"
     ]
    }
   ],
   "source": [
    "thisdict =\t{\n",
    "  \"brand\": \"Ford\",\n",
    "  \"model\": \"Mustang\",\n",
    "  \"year\": 1964\n",
    "}\n",
    "print(thisdict)\n"
   ]
  },
  {
   "cell_type": "markdown",
   "id": "e0c6d4fd-6333-49c3-8bca-5caeb2836c4b",
   "metadata": {},
   "source": [
    "Ex26"
   ]
  },
  {
   "cell_type": "code",
   "execution_count": 146,
   "id": "c95bf9b2-f101-407d-a49f-46f211898d73",
   "metadata": {},
   "outputs": [
    {
     "name": "stdout",
     "output_type": "stream",
     "text": [
      "3\n"
     ]
    }
   ],
   "source": [
    "thisdict = {\n",
    "  \"brand\": \"Ford\",\n",
    "  \"model\": \"Mustang\",\n",
    "  \"year\": 1964,\n",
    "  \"year\": 2020\n",
    "}\n",
    "print(len(thisdict))"
   ]
  },
  {
   "cell_type": "markdown",
   "id": "6ebcc003-2665-4231-a117-bf6b457e14d7",
   "metadata": {},
   "source": [
    "Ex27"
   ]
  },
  {
   "cell_type": "code",
   "execution_count": 148,
   "id": "a615fda9-8136-44fa-af7d-31248468f433",
   "metadata": {},
   "outputs": [
    {
     "name": "stdout",
     "output_type": "stream",
     "text": [
      "Mustang\n"
     ]
    }
   ],
   "source": [
    "thisdict =\t{\n",
    "  \"brand\": \"Ford\",\n",
    "  \"model\": \"Mustang\",\n",
    "  \"year\": 1964\n",
    "}\n",
    "x = thisdict[\"model\"]\n",
    "print(x)"
   ]
  },
  {
   "cell_type": "markdown",
   "id": "ccfe6407-f639-4dbc-8ac4-425990f2ab01",
   "metadata": {},
   "source": [
    "Ex28"
   ]
  },
  {
   "cell_type": "code",
   "execution_count": 150,
   "id": "3f75491e-408c-4499-be5c-dc561c6c5d5f",
   "metadata": {},
   "outputs": [
    {
     "name": "stdout",
     "output_type": "stream",
     "text": [
      "dict_keys(['brand', 'model', 'year'])\n",
      "dict_keys(['brand', 'model', 'year', 'color'])\n"
     ]
    }
   ],
   "source": [
    "car = {\n",
    "\"brand\": \"Ford\",\n",
    "\"model\": \"Mustang\",\n",
    "\"year\": 1964\n",
    "}\n",
    "\n",
    "x = car.keys()\n",
    "\n",
    "print(x) #before the change\n",
    "\n",
    "car[\"color\"] = \"white\"\n",
    "\n",
    "print(x) #after the change"
   ]
  },
  {
   "cell_type": "markdown",
   "id": "18ad062b-27e8-4f02-b547-c7cbbb27bb8d",
   "metadata": {},
   "source": [
    "Ex29"
   ]
  },
  {
   "cell_type": "code",
   "execution_count": 152,
   "id": "635fa4b0-9d2a-45bc-9911-a7c3f25a2d05",
   "metadata": {},
   "outputs": [
    {
     "name": "stdout",
     "output_type": "stream",
     "text": [
      "dict_values(['Ford', 'Mustang', 1964])\n",
      "dict_values(['Ford', 'Mustang', 2020])\n"
     ]
    }
   ],
   "source": [
    "car = {\n",
    "\"brand\": \"Ford\",\n",
    "\"model\": \"Mustang\",\n",
    "\"year\": 1964\n",
    "}\n",
    "\n",
    "x = car.values()\n",
    "\n",
    "print(x) #before the change\n",
    "\n",
    "car[\"year\"] = 2020\n",
    "\n",
    "print(x) #after the change\n"
   ]
  },
  {
   "cell_type": "markdown",
   "id": "70a911ed-126a-4297-8531-22bf7b66544b",
   "metadata": {},
   "source": [
    "Ex30"
   ]
  },
  {
   "cell_type": "code",
   "execution_count": 154,
   "id": "84481593-3844-4fec-a67c-989a233560d7",
   "metadata": {},
   "outputs": [
    {
     "name": "stdout",
     "output_type": "stream",
     "text": [
      "{'child1': {'name': 'Emil', 'year': 2004}, 'child2': {'name': 'Tobias', 'year': 2007}, 'child3': {'name': 'Linus', 'year': 2011}}\n"
     ]
    }
   ],
   "source": [
    "myfamily = {\n",
    "  \"child1\" : {\n",
    "    \"name\" : \"Emil\",\n",
    "    \"year\" : 2004\n",
    "  },\n",
    "  \"child2\" : {\n",
    "    \"name\" : \"Tobias\",\n",
    "    \"year\" : 2007\n",
    "  },\n",
    "  \"child3\" : {\n",
    "    \"name\" : \"Linus\",\n",
    "    \"year\" : 2011\n",
    "  }\n",
    "}\n",
    "\n",
    "print(myfamily)"
   ]
  },
  {
   "cell_type": "markdown",
   "id": "a7f0ffcb-6499-4919-a921-7fdd92643f21",
   "metadata": {},
   "source": [
    "Ex31"
   ]
  },
  {
   "cell_type": "code",
   "execution_count": 156,
   "id": "018398e4-b0f5-414e-878e-b369f8c8fd79",
   "metadata": {},
   "outputs": [
    {
     "name": "stdout",
     "output_type": "stream",
     "text": [
      "child1\n",
      "name: Emil\n",
      "year: 2004\n",
      "child2\n",
      "name: Tobias\n",
      "year: 2007\n",
      "child3\n",
      "name: Linus\n",
      "year: 2011\n"
     ]
    }
   ],
   "source": [
    "myfamily = {\n",
    "  \"child1\" : {\n",
    "    \"name\" : \"Emil\",\n",
    "    \"year\" : 2004\n",
    "  },\n",
    "  \"child2\" : {\n",
    "    \"name\" : \"Tobias\",\n",
    "    \"year\" : 2007\n",
    "  },\n",
    "  \"child3\" : {\n",
    "    \"name\" : \"Linus\",\n",
    "    \"year\" : 2011\n",
    "  }\n",
    "}\n",
    "\n",
    "for x, obj in myfamily.items():\n",
    "    print(x)\n",
    "    \n",
    "    for y in obj:\n",
    "        print(y + ':', obj[y])"
   ]
  },
  {
   "cell_type": "markdown",
   "id": "1362f3a0-6447-44f6-a23e-a07a27a79481",
   "metadata": {},
   "source": [
    "Ex32"
   ]
  },
  {
   "cell_type": "code",
   "execution_count": 158,
   "id": "058d98f4-8a12-42ea-8f45-17df40bdc87a",
   "metadata": {},
   "outputs": [
    {
     "name": "stdout",
     "output_type": "stream",
     "text": [
      "a and b are equal\n"
     ]
    }
   ],
   "source": [
    "a = 33\n",
    "b = 33\n",
    "if b > a:\n",
    "  print(\"b is greater than a\")\n",
    "elif a == b:\n",
    "  print(\"a and b are equal\")"
   ]
  },
  {
   "cell_type": "markdown",
   "id": "ca8de4aa-a9ff-4734-b067-7ebdf38e9314",
   "metadata": {},
   "source": [
    "Ex33"
   ]
  },
  {
   "cell_type": "code",
   "execution_count": 160,
   "id": "ccdc6eb2-bcc2-488a-b53b-1a162a8f501b",
   "metadata": {},
   "outputs": [
    {
     "name": "stdout",
     "output_type": "stream",
     "text": [
      "a is greater than b\n"
     ]
    }
   ],
   "source": [
    "a = 200\n",
    "b = 33\n",
    "if b > a:\n",
    "  print(\"b is greater than a\")\n",
    "elif a == b:\n",
    "  print(\"a and b are equal\")\n",
    "else:\n",
    "  print(\"a is greater than b\")"
   ]
  },
  {
   "cell_type": "markdown",
   "id": "de195fd9-4892-4202-96cd-6ad0b97ad1bb",
   "metadata": {},
   "source": [
    "Ex34"
   ]
  },
  {
   "cell_type": "code",
   "execution_count": 162,
   "id": "58317637-7e41-4036-bf66-fa66c4744b94",
   "metadata": {},
   "outputs": [
    {
     "name": "stdout",
     "output_type": "stream",
     "text": [
      "B\n"
     ]
    }
   ],
   "source": [
    "a = 2\n",
    "b = 330\n",
    "\n",
    "print(\"A\") if a > b else print(\"B\")"
   ]
  },
  {
   "cell_type": "markdown",
   "id": "1f2bf1f3-aa40-4791-8e48-929fd03e4aa3",
   "metadata": {},
   "source": [
    "Ex35"
   ]
  },
  {
   "cell_type": "code",
   "execution_count": 164,
   "id": "27ba0790-036c-4207-9ba5-7b97ceb8bd8c",
   "metadata": {},
   "outputs": [
    {
     "name": "stdout",
     "output_type": "stream",
     "text": [
      "1\n",
      "2\n",
      "3\n"
     ]
    }
   ],
   "source": [
    "i = 1\n",
    "while i < 6:\n",
    "  print(i)\n",
    "  if (i == 3):\n",
    "    break\n",
    "  i += 1"
   ]
  },
  {
   "cell_type": "markdown",
   "id": "34530811-3378-44ff-b0d2-8aafb44f9daf",
   "metadata": {},
   "source": [
    "Ex36"
   ]
  },
  {
   "cell_type": "code",
   "execution_count": 166,
   "id": "e7795778-304c-4c0f-ad4d-0d527a53d939",
   "metadata": {},
   "outputs": [
    {
     "name": "stdout",
     "output_type": "stream",
     "text": [
      "1\n",
      "2\n",
      "4\n",
      "5\n",
      "6\n"
     ]
    }
   ],
   "source": [
    "i = 0\n",
    "while i < 6:\n",
    "  i += 1\n",
    "  if i == 3:\n",
    "    continue\n",
    "  print(i)"
   ]
  },
  {
   "cell_type": "markdown",
   "id": "38885c02-88ac-45cf-a02c-446fdb0e0973",
   "metadata": {},
   "source": [
    "Ex37"
   ]
  },
  {
   "cell_type": "code",
   "execution_count": 168,
   "id": "8c9d89e7-7587-4e57-9359-42e868ed8a45",
   "metadata": {},
   "outputs": [
    {
     "name": "stdout",
     "output_type": "stream",
     "text": [
      "1\n",
      "2\n",
      "3\n",
      "4\n",
      "5\n",
      "i is no longer less than 6\n"
     ]
    }
   ],
   "source": [
    "i = 1\n",
    "while i < 6:\n",
    "  print(i)\n",
    "  i += 1\n",
    "else:\n",
    "  print(\"i is no longer less than 6\")"
   ]
  },
  {
   "cell_type": "markdown",
   "id": "2b983272-2d74-4a50-a832-6d3082de0a04",
   "metadata": {},
   "source": [
    "Ex38"
   ]
  },
  {
   "cell_type": "code",
   "execution_count": 170,
   "id": "33289740-f731-42c7-81f3-6c47fa3b67fd",
   "metadata": {},
   "outputs": [
    {
     "name": "stdout",
     "output_type": "stream",
     "text": [
      "apple\n",
      "banana\n"
     ]
    }
   ],
   "source": [
    "fruits = [\"apple\", \"banana\", \"cherry\"]\n",
    "for x in fruits:\n",
    "  print(x) \n",
    "  if x == \"banana\":\n",
    "    break"
   ]
  },
  {
   "cell_type": "markdown",
   "id": "9865f102-b340-4254-b84a-b02eda27796a",
   "metadata": {},
   "source": [
    "Ex39"
   ]
  },
  {
   "cell_type": "code",
   "execution_count": 172,
   "id": "fe5ac2f5-ddf7-42a8-9897-a919cbc3fd93",
   "metadata": {},
   "outputs": [
    {
     "name": "stdout",
     "output_type": "stream",
     "text": [
      "apple\n",
      "cherry\n"
     ]
    }
   ],
   "source": [
    "fruits = [\"apple\", \"banana\", \"cherry\"]\n",
    "for x in fruits:\n",
    "  if x == \"banana\":\n",
    "    continue\n",
    "  print(x) "
   ]
  },
  {
   "cell_type": "markdown",
   "id": "6005b876-2cfa-4dc0-9e78-6c1d1da59a0b",
   "metadata": {},
   "source": [
    "Ex40"
   ]
  },
  {
   "cell_type": "code",
   "execution_count": 174,
   "id": "685a705d-9da4-4fde-9969-9332a282500b",
   "metadata": {},
   "outputs": [
    {
     "name": "stdout",
     "output_type": "stream",
     "text": [
      "0\n",
      "1\n",
      "2\n"
     ]
    }
   ],
   "source": [
    "for x in range(6):\n",
    "  if x == 3: break\n",
    "  print(x)\n",
    "else:\n",
    "  print(\"Finally finished!\")"
   ]
  },
  {
   "cell_type": "markdown",
   "id": "0f90c08c-d7fd-4890-91cc-8a5fd68a61a3",
   "metadata": {},
   "source": [
    "Ex41"
   ]
  },
  {
   "cell_type": "code",
   "execution_count": 177,
   "id": "d80a6bf1-224d-4a65-9b30-e032ebe9ad81",
   "metadata": {},
   "outputs": [
    {
     "name": "stdout",
     "output_type": "stream",
     "text": [
      "red apple\n",
      "red banana\n",
      "red cherry\n",
      "big apple\n",
      "big banana\n",
      "big cherry\n",
      "tasty apple\n",
      "tasty banana\n",
      "tasty cherry\n"
     ]
    }
   ],
   "source": [
    "adj = [\"red\", \"big\", \"tasty\"]\n",
    "fruits = [\"apple\", \"banana\", \"cherry\"]\n",
    "\n",
    "for x in adj:\n",
    "  for y in fruits:\n",
    "    print(x, y)"
   ]
  }
 ],
 "metadata": {
  "kernelspec": {
   "display_name": "Python [conda env:base] *",
   "language": "python",
   "name": "conda-base-py"
  },
  "language_info": {
   "codemirror_mode": {
    "name": "ipython",
    "version": 3
   },
   "file_extension": ".py",
   "mimetype": "text/x-python",
   "name": "python",
   "nbconvert_exporter": "python",
   "pygments_lexer": "ipython3",
   "version": "3.12.7"
  }
 },
 "nbformat": 4,
 "nbformat_minor": 5
}

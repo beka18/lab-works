{
 "cells": [
  {
   "cell_type": "markdown",
   "id": "f43b6334-46e7-4ae8-a9ce-9c3f166105c5",
   "metadata": {},
   "source": [
    "Python classes"
   ]
  },
  {
   "cell_type": "markdown",
   "id": "f35b8d4f-254d-40fa-9c05-ba9bf15e7d21",
   "metadata": {},
   "source": [
    "Ex1"
   ]
  },
  {
   "cell_type": "code",
   "execution_count": 10,
   "id": "91dc7748-887c-4ade-b3f4-896967f78d73",
   "metadata": {},
   "outputs": [
    {
     "name": "stdout",
     "output_type": "stream",
     "text": [
      "HELLO\n"
     ]
    }
   ],
   "source": [
    "class StringHandler:\n",
    "    def __init__(self):\n",
    "        self.string = \"\"\n",
    "    \n",
    "    def getString(self, text):\n",
    "        self.string = text\n",
    "    \n",
    "    def printString(self):\n",
    "        print(self.string.upper())\n",
    "\n",
    "s = StringHandler()\n",
    "s.getString(\"hello\")\n",
    "s.printString() "
   ]
  },
  {
   "cell_type": "markdown",
   "id": "c2c385fe-ade5-4ce7-841e-911fc31a8407",
   "metadata": {},
   "source": [
    "Ex2"
   ]
  },
  {
   "cell_type": "code",
   "execution_count": 13,
   "id": "b8153881-2120-4116-ab0d-3fdbb4b2d0ab",
   "metadata": {},
   "outputs": [
    {
     "name": "stdout",
     "output_type": "stream",
     "text": [
      "16\n"
     ]
    }
   ],
   "source": [
    "class Shape:\n",
    "    def area(self):\n",
    "        return 0\n",
    "\n",
    "class Square(Shape):\n",
    "    def __init__(self, length):\n",
    "        self.length = length\n",
    "    \n",
    "    def area(self):\n",
    "        return self.length ** 2\n",
    "sq = Square(4)\n",
    "print(sq.area())"
   ]
  },
  {
   "cell_type": "markdown",
   "id": "5c61cc4e-5b3d-488e-9e95-bb1c60e23784",
   "metadata": {},
   "source": [
    "Ex3"
   ]
  },
  {
   "cell_type": "code",
   "execution_count": 16,
   "id": "b0914c57-7b88-4c5a-8d73-8105f5b4cfcb",
   "metadata": {},
   "outputs": [
    {
     "name": "stdout",
     "output_type": "stream",
     "text": [
      "20\n"
     ]
    }
   ],
   "source": [
    "class Rectangle(Shape):\n",
    "    def __init__(self, length, width):\n",
    "        self.length = length\n",
    "        self.width = width\n",
    "    \n",
    "    def area(self):\n",
    "        return self.length * self.width\n",
    "rect = Rectangle(4, 5)\n",
    "print(rect.area())"
   ]
  },
  {
   "cell_type": "markdown",
   "id": "8dd1fcf6-7edc-4824-a78c-8792f2751712",
   "metadata": {},
   "source": [
    "Ex4"
   ]
  },
  {
   "cell_type": "code",
   "execution_count": 54,
   "id": "cea67cdc-f18c-4299-b610-db4a5b9ffaa9",
   "metadata": {},
   "outputs": [
    {
     "name": "stdout",
     "output_type": "stream",
     "text": [
      "(0, 0)\n",
      "(1, 1)\n",
      "3.605551275463989\n"
     ]
    }
   ],
   "source": [
    "class Point:\n",
    "    def __init__(self, x, y):\n",
    "        self.x = x\n",
    "        self.y = y\n",
    "    \n",
    "    def show(self):\n",
    "        print(f\"({self.x}, {self.y})\")\n",
    "    \n",
    "    def move(self, dx, dy):\n",
    "        self.x += dx\n",
    "        self.y += dy\n",
    "    \n",
    "    def dist(self, other):\n",
    "        return ((self.x - other.x) ** 2 + (self.y - other.y) ** 2) ** 0.5\n",
    "p1 = Point(0, 0)\n",
    "p2 = Point(3, 4)\n",
    "p1.show()          \n",
    "p1.move(1, 1)\n",
    "p1.show()          \n",
    "print(p1.dist(p2)) "
   ]
  },
  {
   "cell_type": "markdown",
   "id": "28534dbc-2168-4d41-8ce3-e6c0e39450d9",
   "metadata": {},
   "source": [
    "Ex5"
   ]
  },
  {
   "cell_type": "code",
   "execution_count": 56,
   "id": "a1bf056b-db30-4d40-8c35-ed70a6597fc4",
   "metadata": {},
   "outputs": [
    {
     "name": "stdout",
     "output_type": "stream",
     "text": [
      "50 deposited. New balance: 150\n",
      "30 withdrawn. New balance: 120\n",
      "Insufficient funds!\n"
     ]
    }
   ],
   "source": [
    "class Account:\n",
    "    def __init__(self, owner, balance=0):\n",
    "        self.owner = owner\n",
    "        self.balance = balance\n",
    "    \n",
    "    def deposit(self, amount):\n",
    "        self.balance += amount\n",
    "        print(f\"{amount} deposited. New balance: {self.balance}\")\n",
    "    \n",
    "    def withdraw(self, amount):\n",
    "        if amount > self.balance:\n",
    "            print(\"Insufficient funds!\")\n",
    "        else:\n",
    "            self.balance -= amount\n",
    "            print(f\"{amount} withdrawn. New balance: {self.balance}\")\n",
    "\n",
    "acc = Account(\"Alice\", 100)\n",
    "acc.deposit(50)  \n",
    "acc.withdraw(30)  \n",
    "acc.withdraw(150)  "
   ]
  },
  {
   "cell_type": "markdown",
   "id": "aae0efd7-e5d0-474c-9d9e-421cd47df185",
   "metadata": {},
   "source": [
    "Ex6"
   ]
  },
  {
   "cell_type": "code",
   "execution_count": 58,
   "id": "11df5547-dd5b-4d25-98ff-5e62e9860a3a",
   "metadata": {},
   "outputs": [
    {
     "name": "stdout",
     "output_type": "stream",
     "text": [
      "Prime numbers: [2, 3, 5, 7, 11]\n"
     ]
    }
   ],
   "source": [
    "is_prime = lambda n: n > 1 and all(n % i != 0 for i in range(2, int(n**0.5) + 1))\n",
    "numbers = [2, 3, 4, 5, 6, 7, 8, 9, 10, 11]\n",
    "prime_numbers = list(filter(is_prime, numbers))\n",
    "print(\"Prime numbers:\", prime_numbers)"
   ]
  },
  {
   "cell_type": "markdown",
   "id": "f42e849c-fc01-4a38-ba99-ace7def900b7",
   "metadata": {},
   "source": [
    "Python function1"
   ]
  },
  {
   "cell_type": "markdown",
   "id": "974af1e4-2fab-4137-8a02-c6ac7ec4d57f",
   "metadata": {},
   "source": [
    "Ex1"
   ]
  },
  {
   "cell_type": "code",
   "execution_count": 60,
   "id": "705f3291-337c-4e46-9548-66b7b9cdbf05",
   "metadata": {},
   "outputs": [
    {
     "name": "stdout",
     "output_type": "stream",
     "text": [
      "3.5273961980686726\n"
     ]
    }
   ],
   "source": [
    "def grams_to_ounces(grams):\n",
    "    return grams / 28.3495231\n",
    "\n",
    "print(grams_to_ounces(100)) "
   ]
  },
  {
   "cell_type": "markdown",
   "id": "a9b01faa-53fb-4223-922a-1b154e39bdde",
   "metadata": {},
   "source": [
    "Ex2"
   ]
  },
  {
   "cell_type": "code",
   "execution_count": 62,
   "id": "9db7eaa4-dd03-4072-96c5-8edb152989a7",
   "metadata": {},
   "outputs": [
    {
     "name": "stdout",
     "output_type": "stream",
     "text": [
      "37.0\n"
     ]
    }
   ],
   "source": [
    "def fahrenheit_to_celsius(fahrenheit):\n",
    "    return (5 / 9) * (fahrenheit - 32)\n",
    "\n",
    "print(fahrenheit_to_celsius(98.6))  "
   ]
  },
  {
   "cell_type": "markdown",
   "id": "dd9a2427-8015-4b6b-a704-b5608789b436",
   "metadata": {},
   "source": [
    "Ex3"
   ]
  },
  {
   "cell_type": "code",
   "execution_count": 64,
   "id": "648016e6-ab7f-4941-acb3-151559fc6437",
   "metadata": {},
   "outputs": [
    {
     "name": "stdout",
     "output_type": "stream",
     "text": [
      "(23, 12)\n"
     ]
    }
   ],
   "source": [
    "def solve(num_heads, num_legs):\n",
    "    for chickens in range(num_heads + 1):\n",
    "        rabbits = num_heads - chickens\n",
    "        if 2 * chickens + 4 * rabbits == num_legs:\n",
    "            return chickens, rabbits\n",
    "    return None\n",
    "\n",
    "print(solve(35, 94))  "
   ]
  },
  {
   "cell_type": "markdown",
   "id": "1f5408fd-1b6e-42af-bd31-5dc75b1d4918",
   "metadata": {},
   "source": [
    "Ex4"
   ]
  },
  {
   "cell_type": "code",
   "execution_count": 66,
   "id": "8dbf26db-93de-4098-acd4-bf0f207b0010",
   "metadata": {},
   "outputs": [
    {
     "name": "stdout",
     "output_type": "stream",
     "text": [
      "[2, 3, 5, 7, 11]\n"
     ]
    }
   ],
   "source": [
    "def filter_prime(numbers):\n",
    "    is_prime = lambda n: n > 1 and all(n % i != 0 for i in range(2, int(n**0.5) + 1))\n",
    "    return list(filter(is_prime, numbers))\n",
    "\n",
    "print(filter_prime([2, 3, 4, 5, 6, 7, 8, 9, 10, 11]))  "
   ]
  },
  {
   "cell_type": "markdown",
   "id": "fb4235a4-1bbe-4312-bb7e-61da558d3b04",
   "metadata": {},
   "source": [
    "Ex5"
   ]
  },
  {
   "cell_type": "code",
   "execution_count": 68,
   "id": "ce8d17e6-58ac-4c25-bad4-1a1691848351",
   "metadata": {},
   "outputs": [
    {
     "name": "stdout",
     "output_type": "stream",
     "text": [
      "['abc', 'acb', 'bac', 'bca', 'cab', 'cba']\n"
     ]
    }
   ],
   "source": [
    "from itertools import permutations\n",
    "\n",
    "def string_permutations(s):\n",
    "    return [''.join(p) for p in permutations(s)]\n",
    "\n",
    "print(string_permutations(\"abc\"))  "
   ]
  },
  {
   "cell_type": "markdown",
   "id": "76ab18d8-6f77-46c2-9aa0-6c46db6261c3",
   "metadata": {},
   "source": [
    "Ex6"
   ]
  },
  {
   "cell_type": "code",
   "execution_count": 70,
   "id": "40aad7f9-6039-4521-bf25-abe4452243f2",
   "metadata": {},
   "outputs": [
    {
     "name": "stdout",
     "output_type": "stream",
     "text": [
      "ready are We\n"
     ]
    }
   ],
   "source": [
    "def reverse_words(sentence):\n",
    "    return ' '.join(sentence.split()[::-1])\n",
    "\n",
    "print(reverse_words(\"We are ready\"))  "
   ]
  },
  {
   "cell_type": "markdown",
   "id": "8d20ff9c-fb04-4de1-b63e-36fd50a59262",
   "metadata": {},
   "source": [
    "Ex7"
   ]
  },
  {
   "cell_type": "code",
   "execution_count": 72,
   "id": "438238df-4776-411c-8dc4-f6167d923df5",
   "metadata": {},
   "outputs": [
    {
     "name": "stdout",
     "output_type": "stream",
     "text": [
      "True\n",
      "False\n",
      "False\n"
     ]
    }
   ],
   "source": [
    "def has_33(nums):\n",
    "    return any(nums[i] == 3 and nums[i+1] == 3 for i in range(len(nums) - 1))\n",
    "\n",
    "print(has_33([1, 3, 3]))  \n",
    "print(has_33([1, 3, 1, 3]))  \n",
    "print(has_33([3, 1, 3]))  "
   ]
  },
  {
   "cell_type": "markdown",
   "id": "5f6c4fcc-5787-4e9e-a7bb-c973ed5150e3",
   "metadata": {},
   "source": [
    "Ex8"
   ]
  },
  {
   "cell_type": "code",
   "execution_count": 74,
   "id": "50c9f460-1ea2-4704-b9e1-d5438b89809e",
   "metadata": {},
   "outputs": [
    {
     "name": "stdout",
     "output_type": "stream",
     "text": [
      "True\n",
      "True\n",
      "False\n"
     ]
    }
   ],
   "source": [
    "def spy_game(nums):\n",
    "    code = [0, 0, 7]\n",
    "    for num in nums:\n",
    "        if num == code[0]:\n",
    "            code.pop(0)\n",
    "        if not code:\n",
    "            return True\n",
    "    return False\n",
    "\n",
    "print(spy_game([1, 2, 4, 0, 0, 7, 5]))  \n",
    "print(spy_game([1, 0, 2, 4, 0, 5, 7]))  \n",
    "print(spy_game([1, 7, 2, 0, 4, 5, 0]))  "
   ]
  },
  {
   "cell_type": "markdown",
   "id": "279cd3f3-e443-40d2-a623-35698fe528d2",
   "metadata": {},
   "source": [
    "Ex9"
   ]
  },
  {
   "cell_type": "code",
   "execution_count": 76,
   "id": "2d4caede-b6af-47fe-b21d-36e9cc206859",
   "metadata": {},
   "outputs": [
    {
     "name": "stdout",
     "output_type": "stream",
     "text": [
      "113.09723999999999\n"
     ]
    }
   ],
   "source": [
    "def sphere_volume(radius):\n",
    "    return (4/3) * 3.14159 * radius**3\n",
    "\n",
    "print(sphere_volume(3))  "
   ]
  },
  {
   "cell_type": "markdown",
   "id": "44a75356-49bf-4df5-bf09-de85b68957b8",
   "metadata": {},
   "source": [
    "Ex10"
   ]
  },
  {
   "cell_type": "code",
   "execution_count": 78,
   "id": "f50bec14-23f7-43c1-9d9d-c6145705435f",
   "metadata": {},
   "outputs": [
    {
     "name": "stdout",
     "output_type": "stream",
     "text": [
      "[1, 2, 3, 4]\n"
     ]
    }
   ],
   "source": [
    "def unique_list(lst):\n",
    "    unique = []\n",
    "    for item in lst:\n",
    "        if item not in unique:\n",
    "            unique.append(item)\n",
    "    return unique\n",
    "\n",
    "print(unique_list([1, 2, 2, 3, 3, 4]))  "
   ]
  },
  {
   "cell_type": "markdown",
   "id": "f7f983fd-07d4-42f8-8609-4fd67ec09673",
   "metadata": {},
   "source": [
    "Ex11"
   ]
  },
  {
   "cell_type": "code",
   "execution_count": 80,
   "id": "f757b4ab-7684-4944-83de-8ca38c613755",
   "metadata": {},
   "outputs": [
    {
     "name": "stdout",
     "output_type": "stream",
     "text": [
      "True\n",
      "False\n",
      "True\n"
     ]
    }
   ],
   "source": [
    "def is_palindrome(s):\n",
    "    s = ''.join(e for e in s if e.isalnum()).lower()\n",
    "    return s == s[::-1]\n",
    "\n",
    "print(is_palindrome(\"madam\"))  \n",
    "print(is_palindrome(\"hello\"))  \n",
    "print(is_palindrome(\"A man, a plan, a canal, Panama\"))  "
   ]
  },
  {
   "cell_type": "markdown",
   "id": "260e9601-8342-45d2-91eb-5cb59b715197",
   "metadata": {},
   "source": [
    "Ex12"
   ]
  },
  {
   "cell_type": "code",
   "execution_count": 82,
   "id": "d2bc011b-091a-4c33-95ee-6ca1663d2429",
   "metadata": {},
   "outputs": [
    {
     "name": "stdout",
     "output_type": "stream",
     "text": [
      "****\n",
      "*********\n",
      "*******\n"
     ]
    }
   ],
   "source": [
    "def histogram(lst):\n",
    "    for n in lst:\n",
    "        print('*' * n)\n",
    "\n",
    "histogram([4, 9, 7])  "
   ]
  },
  {
   "cell_type": "markdown",
   "id": "3da85ec2-d6e2-4d1d-934f-7f3da0b91e8a",
   "metadata": {},
   "source": [
    "Ex13"
   ]
  },
  {
   "cell_type": "code",
   "execution_count": 106,
   "id": "a7e9f412-85a1-48a8-8c87-d15eb8c93de1",
   "metadata": {},
   "outputs": [
    {
     "name": "stdin",
     "output_type": "stream",
     "text": [
      "Hello! What is your name?  beka\n"
     ]
    },
    {
     "name": "stdout",
     "output_type": "stream",
     "text": [
      "Well, beka, I am thinking of a number between 1 and 20.\n"
     ]
    },
    {
     "name": "stdin",
     "output_type": "stream",
     "text": [
      "Take a guess:  18\n"
     ]
    },
    {
     "name": "stdout",
     "output_type": "stream",
     "text": [
      "Your guess is too high.\n"
     ]
    },
    {
     "name": "stdin",
     "output_type": "stream",
     "text": [
      "Take a guess:  5\n"
     ]
    },
    {
     "name": "stdout",
     "output_type": "stream",
     "text": [
      "Your guess is too low.\n"
     ]
    },
    {
     "name": "stdin",
     "output_type": "stream",
     "text": [
      "Take a guess:  10\n"
     ]
    },
    {
     "name": "stdout",
     "output_type": "stream",
     "text": [
      "Your guess is too low.\n"
     ]
    },
    {
     "name": "stdin",
     "output_type": "stream",
     "text": [
      "Take a guess:  14\n"
     ]
    },
    {
     "name": "stdout",
     "output_type": "stream",
     "text": [
      "Your guess is too low.\n"
     ]
    },
    {
     "name": "stdin",
     "output_type": "stream",
     "text": [
      "Take a guess:  17\n"
     ]
    },
    {
     "name": "stdout",
     "output_type": "stream",
     "text": [
      "Your guess is too high.\n"
     ]
    },
    {
     "name": "stdin",
     "output_type": "stream",
     "text": [
      "Take a guess:  16\n"
     ]
    },
    {
     "name": "stdout",
     "output_type": "stream",
     "text": [
      "Good job, beka! You guessed my number!\n"
     ]
    }
   ],
   "source": [
    "import random\n",
    "\n",
    "def guess_the_number():\n",
    "    name = input(\"Hello! What is your name? \")\n",
    "    print(f\"Well, {name}, I am thinking of a number between 1 and 20.\")\n",
    "    \n",
    "    number = random.randint(1, 20)\n",
    "    while True:\n",
    "        guess = int(input(\"Take a guess: \"))\n",
    "        if guess < number:\n",
    "            print(\"Your guess is too low.\")\n",
    "        elif guess > number:\n",
    "            print(\"Your guess is too high.\")\n",
    "        else:\n",
    "            print(f\"Good job, {name}! You guessed my number!\")\n",
    "            break\n",
    "\n",
    "guess_the_number()"
   ]
  },
  {
   "cell_type": "markdown",
   "id": "791f67e1-6440-45cd-9247-9724410da315",
   "metadata": {},
   "source": [
    "Python function2"
   ]
  },
  {
   "cell_type": "markdown",
   "id": "76e85f37-e50c-4c97-88ef-dd3bc97b7665",
   "metadata": {},
   "source": [
    "Ex1"
   ]
  },
  {
   "cell_type": "code",
   "execution_count": 121,
   "id": "7688f5a0-ef91-4cea-b61c-df9080842880",
   "metadata": {},
   "outputs": [
    {
     "name": "stdout",
     "output_type": "stream",
     "text": [
      "True\n"
     ]
    }
   ],
   "source": [
    "movies = [\n",
    "    {\"title\": \"Movie1\", \"imdb\": 6.0, \"category\": \"Action\"},\n",
    "    {\"title\": \"Movie2\", \"imdb\": 5.0, \"category\": \"Comedy\"},\n",
    "    {\"title\": \"Movie3\", \"imdb\": 7.5, \"category\": \"Action\"},\n",
    "    {\"title\": \"Movie4\", \"imdb\": 4.5, \"category\": \"Horror\"},\n",
    "    {\"title\": \"Movie5\", \"imdb\": 8.0, \"category\": \"Comedy\"}\n",
    "]\n",
    "def is_above_5_5(movie):\n",
    "    return movie[\"imdb\"] > 5.5\n",
    "print(is_above_5_5(movies[0]))"
   ]
  },
  {
   "cell_type": "markdown",
   "id": "ce9e12e8-2c35-4533-a799-346aed94de0a",
   "metadata": {},
   "source": [
    "Ex2"
   ]
  },
  {
   "cell_type": "code",
   "execution_count": 123,
   "id": "832fc4c1-ee42-4c2c-a37f-6ee9e24d2fbd",
   "metadata": {},
   "outputs": [
    {
     "name": "stdout",
     "output_type": "stream",
     "text": [
      "[{'title': 'Movie1', 'imdb': 6.0, 'category': 'Action'}, {'title': 'Movie3', 'imdb': 7.5, 'category': 'Action'}, {'title': 'Movie5', 'imdb': 8.0, 'category': 'Comedy'}]\n"
     ]
    }
   ],
   "source": [
    "movies = [\n",
    "    {\"title\": \"Movie1\", \"imdb\": 6.0, \"category\": \"Action\"},\n",
    "    {\"title\": \"Movie2\", \"imdb\": 5.0, \"category\": \"Comedy\"},\n",
    "    {\"title\": \"Movie3\", \"imdb\": 7.5, \"category\": \"Action\"},\n",
    "    {\"title\": \"Movie4\", \"imdb\": 4.5, \"category\": \"Horror\"},\n",
    "    {\"title\": \"Movie5\", \"imdb\": 8.0, \"category\": \"Comedy\"}\n",
    "]\n",
    "def movies_above_5_5(movies):\n",
    "    return [movie for movie in movies if movie[\"imdb\"] > 5.5]\n",
    "print(movies_above_5_5(movies)) "
   ]
  },
  {
   "cell_type": "markdown",
   "id": "2cc70c31-a10c-4ab4-afb2-164fc7414be2",
   "metadata": {},
   "source": [
    "Ex3"
   ]
  },
  {
   "cell_type": "code",
   "execution_count": 125,
   "id": "9fed03bd-6de4-413f-8871-44f221950d43",
   "metadata": {},
   "outputs": [
    {
     "name": "stdout",
     "output_type": "stream",
     "text": [
      "[{'title': 'Movie1', 'imdb': 6.0, 'category': 'Action'}, {'title': 'Movie3', 'imdb': 7.5, 'category': 'Action'}]\n"
     ]
    }
   ],
   "source": [
    "movies = [\n",
    "    {\"title\": \"Movie1\", \"imdb\": 6.0, \"category\": \"Action\"},\n",
    "    {\"title\": \"Movie2\", \"imdb\": 5.0, \"category\": \"Comedy\"},\n",
    "    {\"title\": \"Movie3\", \"imdb\": 7.5, \"category\": \"Action\"},\n",
    "    {\"title\": \"Movie4\", \"imdb\": 4.5, \"category\": \"Horror\"},\n",
    "    {\"title\": \"Movie5\", \"imdb\": 8.0, \"category\": \"Comedy\"}\n",
    "]\n",
    "def movies_by_category(movies, category):\n",
    "    return [movie for movie in movies if movie[\"category\"] == category]\n",
    "print(movies_by_category(movies, \"Action\"))"
   ]
  },
  {
   "cell_type": "markdown",
   "id": "7331473f-1101-4ff4-9330-c14aaea45b81",
   "metadata": {},
   "source": [
    "Ex4"
   ]
  },
  {
   "cell_type": "code",
   "execution_count": 127,
   "id": "13a52ba4-dd60-414a-930e-1f881d1797f5",
   "metadata": {},
   "outputs": [
    {
     "name": "stdout",
     "output_type": "stream",
     "text": [
      "6.2\n"
     ]
    }
   ],
   "source": [
    "movies = [\n",
    "    {\"title\": \"Movie1\", \"imdb\": 6.0, \"category\": \"Action\"},\n",
    "    {\"title\": \"Movie2\", \"imdb\": 5.0, \"category\": \"Comedy\"},\n",
    "    {\"title\": \"Movie3\", \"imdb\": 7.5, \"category\": \"Action\"},\n",
    "    {\"title\": \"Movie4\", \"imdb\": 4.5, \"category\": \"Horror\"},\n",
    "    {\"title\": \"Movie5\", \"imdb\": 8.0, \"category\": \"Comedy\"}\n",
    "]\n",
    "def average_imdb(movies):\n",
    "    scores = [movie[\"imdb\"] for movie in movies]\n",
    "    return sum(scores) / len(scores) if scores else 0\n",
    "print(average_imdb(movies))"
   ]
  },
  {
   "cell_type": "markdown",
   "id": "50e0f021-d4e1-41e3-bdae-a224d4d38784",
   "metadata": {},
   "source": [
    "Ex5"
   ]
  },
  {
   "cell_type": "code",
   "execution_count": 129,
   "id": "7d275293-754a-4f5a-b51f-80574dfb3d96",
   "metadata": {},
   "outputs": [
    {
     "name": "stdout",
     "output_type": "stream",
     "text": [
      "6.5\n"
     ]
    }
   ],
   "source": [
    "movies = [\n",
    "    {\"title\": \"Movie1\", \"imdb\": 6.0, \"category\": \"Action\"},\n",
    "    {\"title\": \"Movie2\", \"imdb\": 5.0, \"category\": \"Comedy\"},\n",
    "    {\"title\": \"Movie3\", \"imdb\": 7.5, \"category\": \"Action\"},\n",
    "    {\"title\": \"Movie4\", \"imdb\": 4.5, \"category\": \"Horror\"},\n",
    "    {\"title\": \"Movie5\", \"imdb\": 8.0, \"category\": \"Comedy\"}\n",
    "]\n",
    "def average_imdb_by_category(movies, category):\n",
    "    category_movies = movies_by_category(movies, category)\n",
    "    return average_imdb(category_movies)\n",
    "print(average_imdb_by_category(movies, \"Comedy\"))"
   ]
  },
  {
   "cell_type": "code",
   "execution_count": null,
   "id": "ef13541e-9f02-40e4-9b5d-2fe02835d01f",
   "metadata": {},
   "outputs": [],
   "source": []
  }
 ],
 "metadata": {
  "kernelspec": {
   "display_name": "Python [conda env:base] *",
   "language": "python",
   "name": "conda-base-py"
  },
  "language_info": {
   "codemirror_mode": {
    "name": "ipython",
    "version": 3
   },
   "file_extension": ".py",
   "mimetype": "text/x-python",
   "name": "python",
   "nbconvert_exporter": "python",
   "pygments_lexer": "ipython3",
   "version": "3.12.7"
  }
 },
 "nbformat": 4,
 "nbformat_minor": 5
}

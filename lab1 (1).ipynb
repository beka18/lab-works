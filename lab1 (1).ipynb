{
 "cells": [
  {
   "cell_type": "markdown",
   "id": "a5c9a243-2cbf-4cf6-a2e5-23a96a0b935d",
   "metadata": {},
   "source": [
    "Ex1"
   ]
  },
  {
   "cell_type": "code",
   "execution_count": 3,
   "id": "7e84bc1c-4287-4372-87b7-8eff45584235",
   "metadata": {},
   "outputs": [
    {
     "name": "stdout",
     "output_type": "stream",
     "text": [
      "Hello, World!\n"
     ]
    }
   ],
   "source": [
    "print(\"Hello, World!\") "
   ]
  },
  {
   "cell_type": "markdown",
   "id": "0cff8610-f293-43fb-b592-b329f8cedd45",
   "metadata": {},
   "source": [
    "Ex2"
   ]
  },
  {
   "cell_type": "code",
   "execution_count": 6,
   "id": "102fe883-c449-4067-a127-ac918c6ef26d",
   "metadata": {},
   "outputs": [
    {
     "name": "stdout",
     "output_type": "stream",
     "text": [
      "Five is greater than two!\n"
     ]
    }
   ],
   "source": [
    "if 5 > 2:\n",
    "  print(\"Five is greater than two!\") "
   ]
  },
  {
   "cell_type": "markdown",
   "id": "34d410af-2c3c-4e16-b1a4-53de8fc365cb",
   "metadata": {},
   "source": [
    "Ex3"
   ]
  },
  {
   "cell_type": "code",
   "execution_count": 9,
   "id": "44192fb3-5394-450a-9bf5-a615d246b8cf",
   "metadata": {},
   "outputs": [
    {
     "name": "stdout",
     "output_type": "stream",
     "text": [
      "5\n",
      "Hello, World!\n"
     ]
    }
   ],
   "source": [
    "x = 5\n",
    "y = \"Hello, World!\"\n",
    "\n",
    "print(x)\n",
    "print(y)"
   ]
  },
  {
   "cell_type": "markdown",
   "id": "a8c38d9a-64e1-4212-bdd9-109aa3fdddee",
   "metadata": {},
   "source": [
    "Ex4"
   ]
  },
  {
   "cell_type": "code",
   "execution_count": 12,
   "id": "986b8709-5266-45c3-b17b-f9d460a05800",
   "metadata": {},
   "outputs": [
    {
     "name": "stdout",
     "output_type": "stream",
     "text": [
      "Cheers, Mate!\n"
     ]
    }
   ],
   "source": [
    "#print(\"Hello, World!\")\n",
    "print(\"Cheers, Mate!\") "
   ]
  },
  {
   "cell_type": "markdown",
   "id": "3b70c083-d9f1-480d-810f-160ac3c6dff1",
   "metadata": {},
   "source": [
    "Ex5"
   ]
  },
  {
   "cell_type": "code",
   "execution_count": 15,
   "id": "9943bda9-501e-4d3b-ad81-de05cd158d09",
   "metadata": {},
   "outputs": [
    {
     "name": "stdout",
     "output_type": "stream",
     "text": [
      "5\n",
      "John\n"
     ]
    }
   ],
   "source": [
    "x = 5\n",
    "y = \"John\"\n",
    "print(x)\n",
    "print(y)"
   ]
  },
  {
   "cell_type": "markdown",
   "id": "7a25b76c-4f1c-48d6-baf4-dd96ed6404d9",
   "metadata": {},
   "source": [
    "Ex6"
   ]
  },
  {
   "cell_type": "code",
   "execution_count": 20,
   "id": "e52b1937-8b00-4903-83c7-2fd6d178b435",
   "metadata": {},
   "outputs": [
    {
     "name": "stdout",
     "output_type": "stream",
     "text": [
      "Sally\n"
     ]
    }
   ],
   "source": [
    "x = 4 # x is of type int \n",
    "x = \"Sally\" # x is now of type str \n",
    "print(x)"
   ]
  },
  {
   "cell_type": "markdown",
   "id": "d7462b00-6047-4838-875a-e757311dee58",
   "metadata": {},
   "source": [
    "Ex7"
   ]
  },
  {
   "cell_type": "code",
   "execution_count": 23,
   "id": "4ad5395e-9609-4bce-98d9-cc07cd58fdd1",
   "metadata": {},
   "outputs": [
    {
     "name": "stdout",
     "output_type": "stream",
     "text": [
      "3\n",
      "3\n",
      "3.0\n"
     ]
    }
   ],
   "source": [
    "x = str(3)\n",
    "y = int(3)\n",
    "z = float(3)\n",
    "\n",
    "print(x)\n",
    "print(y)\n",
    "print(z)"
   ]
  },
  {
   "cell_type": "markdown",
   "id": "93cb14fa-d4a4-46cc-8171-108eeae8eccc",
   "metadata": {},
   "source": [
    "Ex8"
   ]
  },
  {
   "cell_type": "code",
   "execution_count": 26,
   "id": "6e4743e5-bd9e-4d6e-bfc9-851ee5120b53",
   "metadata": {},
   "outputs": [
    {
     "name": "stdout",
     "output_type": "stream",
     "text": [
      "apple\n",
      "banana\n",
      "cherry\n"
     ]
    }
   ],
   "source": [
    "fruits = [\"apple\", \"banana\", \"cherry\"]\n",
    "x, y, z = fruits\n",
    "\n",
    "print(x)\n",
    "print(y)\n",
    "print(z)"
   ]
  },
  {
   "cell_type": "markdown",
   "id": "285fa404-8331-47ee-a76b-f6880c384014",
   "metadata": {},
   "source": [
    "Ex9"
   ]
  },
  {
   "cell_type": "code",
   "execution_count": 29,
   "id": "97455d36-387b-4017-ac57-8aed70d1a301",
   "metadata": {},
   "outputs": [
    {
     "name": "stdout",
     "output_type": "stream",
     "text": [
      "Python is awesome\n"
     ]
    }
   ],
   "source": [
    "x = \"Python\"\n",
    "y = \"is\"\n",
    "z = \"awesome\"\n",
    "print(x, y, z)"
   ]
  },
  {
   "cell_type": "markdown",
   "id": "433fba9b-40ab-403f-a31e-48e8c6521a3a",
   "metadata": {},
   "source": [
    "Ex10"
   ]
  },
  {
   "cell_type": "code",
   "execution_count": 32,
   "id": "b89806d3-0c84-496e-ac64-c089c1f24e39",
   "metadata": {},
   "outputs": [
    {
     "name": "stdout",
     "output_type": "stream",
     "text": [
      "15\n"
     ]
    }
   ],
   "source": [
    "x = 5\n",
    "y = 10\n",
    "print(x + y)"
   ]
  },
  {
   "cell_type": "markdown",
   "id": "15273ddc-7ea3-4ff3-adc1-4cbedac0bfe7",
   "metadata": {},
   "source": [
    "Ex11"
   ]
  },
  {
   "cell_type": "code",
   "execution_count": 35,
   "id": "28ce97ad-6564-4b3b-b40b-ab635942899e",
   "metadata": {},
   "outputs": [
    {
     "name": "stdout",
     "output_type": "stream",
     "text": [
      "Python is awesome\n"
     ]
    }
   ],
   "source": [
    "x = \"awesome\"\n",
    "\n",
    "def myfunc():\n",
    "  print(\"Python is \" + x)\n",
    "\n",
    "myfunc()\n"
   ]
  },
  {
   "cell_type": "markdown",
   "id": "e9729761-1b50-4eea-985b-0276f1e7bb42",
   "metadata": {},
   "source": [
    "Ex12"
   ]
  },
  {
   "cell_type": "code",
   "execution_count": 38,
   "id": "afb541cc-8aea-40e9-bb49-30baab0855d0",
   "metadata": {},
   "outputs": [
    {
     "name": "stdout",
     "output_type": "stream",
     "text": [
      "Python is fantastic\n",
      "Python is awesome\n"
     ]
    }
   ],
   "source": [
    "x = \"awesome\"\n",
    "\n",
    "def myfunc():\n",
    "  x = \"fantastic\"\n",
    "  print(\"Python is \" + x)\n",
    "\n",
    "myfunc()\n",
    "\n",
    "print(\"Python is \" + x)"
   ]
  },
  {
   "cell_type": "markdown",
   "id": "d465d731-3227-40fe-892d-9117057403f0",
   "metadata": {},
   "source": [
    "Ex13"
   ]
  },
  {
   "cell_type": "code",
   "execution_count": 41,
   "id": "99fb3b46-897b-4443-ab4f-af8ff34dd0c1",
   "metadata": {},
   "outputs": [
    {
     "name": "stdout",
     "output_type": "stream",
     "text": [
      "<class 'int'>\n"
     ]
    }
   ],
   "source": [
    "x = 5\n",
    "print(type(x)) "
   ]
  },
  {
   "cell_type": "markdown",
   "id": "2701ceab-3e7e-481e-bda7-2bffab6ca770",
   "metadata": {},
   "source": [
    "Ex14"
   ]
  },
  {
   "cell_type": "code",
   "execution_count": 44,
   "id": "e53fff38-6a5f-41c8-8adc-064d8bc04638",
   "metadata": {},
   "outputs": [
    {
     "name": "stdout",
     "output_type": "stream",
     "text": [
      "<class 'int'>\n",
      "<class 'float'>\n",
      "<class 'complex'>\n"
     ]
    }
   ],
   "source": [
    "x = 1\n",
    "y = 2.8\n",
    "z = 1j\n",
    "\n",
    "print(type(x))\n",
    "print(type(y))\n",
    "print(type(z))"
   ]
  },
  {
   "cell_type": "markdown",
   "id": "34e00bb0-b300-45c4-a2c0-a88cbd99fc70",
   "metadata": {},
   "source": [
    "Ex15"
   ]
  },
  {
   "cell_type": "code",
   "execution_count": 47,
   "id": "6432237c-e2c1-4de5-8e98-e6182a0690e6",
   "metadata": {},
   "outputs": [
    {
     "name": "stdout",
     "output_type": "stream",
     "text": [
      "1.0\n",
      "2\n",
      "(1+0j)\n",
      "<class 'float'>\n",
      "<class 'int'>\n",
      "<class 'complex'>\n"
     ]
    }
   ],
   "source": [
    "#convert from int to float:\n",
    "x = float(1)\n",
    "\n",
    "#convert from float to int:\n",
    "y = int(2.8)\n",
    "\n",
    "#convert from int to complex:\n",
    "z = complex(1)\n",
    "\n",
    "print(x)\n",
    "print(y)\n",
    "print(z)\n",
    "\n",
    "print(type(x))\n",
    "print(type(y))\n",
    "print(type(z))\n"
   ]
  },
  {
   "cell_type": "markdown",
   "id": "437d66b9-accb-4b4d-b07e-bd6d21e7e6b5",
   "metadata": {},
   "source": [
    "Ex16"
   ]
  },
  {
   "cell_type": "code",
   "execution_count": 50,
   "id": "60ee9c9b-2f65-4a18-b00b-0151f8c4d421",
   "metadata": {},
   "outputs": [
    {
     "name": "stdout",
     "output_type": "stream",
     "text": [
      "4\n"
     ]
    }
   ],
   "source": [
    "import random\n",
    "\n",
    "print(random.randrange(1, 10))"
   ]
  },
  {
   "cell_type": "markdown",
   "id": "238ab51f-7390-4e8b-b182-8ea9af89aaab",
   "metadata": {},
   "source": [
    "Ex17"
   ]
  },
  {
   "cell_type": "code",
   "execution_count": 53,
   "id": "60cbfbc5-ecd1-4ee2-86fb-0b192b0a4a82",
   "metadata": {},
   "outputs": [
    {
     "name": "stdout",
     "output_type": "stream",
     "text": [
      "1\n",
      "2\n",
      "3\n"
     ]
    }
   ],
   "source": [
    "x = int(1)\n",
    "y = int(2.8)\n",
    "z = int(\"3\")\n",
    "print(x)\n",
    "print(y)\n",
    "print(z)"
   ]
  },
  {
   "cell_type": "markdown",
   "id": "494b33d6-d775-4d74-a07e-6ca18b3a9d8c",
   "metadata": {},
   "source": [
    "Ex18"
   ]
  },
  {
   "cell_type": "code",
   "execution_count": 56,
   "id": "7af4437e-0d4b-4ee8-8f43-525047ae737d",
   "metadata": {},
   "outputs": [
    {
     "name": "stdout",
     "output_type": "stream",
     "text": [
      "1.0\n",
      "2.8\n",
      "3.0\n",
      "4.2\n"
     ]
    }
   ],
   "source": [
    "x = float(1)\n",
    "y = float(2.8)\n",
    "z = float(\"3\")\n",
    "w = float(\"4.2\")\n",
    "print(x)\n",
    "print(y)\n",
    "print(z)\n",
    "print(w)\n"
   ]
  },
  {
   "cell_type": "markdown",
   "id": "558ab76b-2ef7-467f-b9a6-34d1035df31b",
   "metadata": {},
   "source": [
    "Ex19"
   ]
  },
  {
   "cell_type": "code",
   "execution_count": 59,
   "id": "edc9485e-b29e-453c-8fe6-62e43ce1890d",
   "metadata": {},
   "outputs": [
    {
     "name": "stdout",
     "output_type": "stream",
     "text": [
      "s1\n",
      "2\n",
      "3.0\n"
     ]
    }
   ],
   "source": [
    "x = str(\"s1\")\n",
    "y = str(2)\n",
    "z = str(3.0)\n",
    "print(x)\n",
    "print(y)\n",
    "print(z)"
   ]
  },
  {
   "cell_type": "markdown",
   "id": "b9ef37d4-a6ec-4152-851f-3368da6e0ca5",
   "metadata": {},
   "source": [
    "Ex20"
   ]
  },
  {
   "cell_type": "code",
   "execution_count": 62,
   "id": "578b7ea5-8c1b-4c88-889d-31124361dfe5",
   "metadata": {},
   "outputs": [
    {
     "name": "stdout",
     "output_type": "stream",
     "text": [
      "Lorem ipsum dolor sit amet,\n",
      "consectetur adipiscing elit,\n",
      "sed do eiusmod tempor incididunt\n",
      "ut labore et dolore magna aliqua.\n"
     ]
    }
   ],
   "source": [
    "a = \"\"\"Lorem ipsum dolor sit amet,\n",
    "consectetur adipiscing elit,\n",
    "sed do eiusmod tempor incididunt\n",
    "ut labore et dolore magna aliqua.\"\"\"\n",
    "print(a)"
   ]
  },
  {
   "cell_type": "markdown",
   "id": "63cdfa79-35c5-41fd-ab03-b0eb13666cba",
   "metadata": {},
   "source": [
    "Ex21"
   ]
  },
  {
   "cell_type": "code",
   "execution_count": 65,
   "id": "09f5c875-6a85-428c-a916-b104a84754df",
   "metadata": {},
   "outputs": [
    {
     "name": "stdout",
     "output_type": "stream",
     "text": [
      "e\n"
     ]
    }
   ],
   "source": [
    "a = \"Hello, World!\"\n",
    "print(a[1])"
   ]
  },
  {
   "cell_type": "markdown",
   "id": "c6803343-8984-4057-a664-d41d3183d6c7",
   "metadata": {},
   "source": [
    "Ex22"
   ]
  },
  {
   "cell_type": "code",
   "execution_count": 68,
   "id": "cb0fb342-edda-470d-a80a-6f78b7837db4",
   "metadata": {},
   "outputs": [
    {
     "name": "stdout",
     "output_type": "stream",
     "text": [
      "b\n",
      "a\n",
      "n\n",
      "a\n",
      "n\n",
      "a\n"
     ]
    }
   ],
   "source": [
    "for x in \"banana\":\n",
    "  print(x) "
   ]
  },
  {
   "cell_type": "markdown",
   "id": "0e2004f7-7dbf-4614-887f-0a2204dc27f2",
   "metadata": {},
   "source": [
    "Ex23"
   ]
  },
  {
   "cell_type": "code",
   "execution_count": 71,
   "id": "eda1be04-1f9f-4dc4-8ac3-3cad9e7533df",
   "metadata": {},
   "outputs": [
    {
     "name": "stdout",
     "output_type": "stream",
     "text": [
      "13\n"
     ]
    }
   ],
   "source": [
    "a = \"Hello, World!\"\n",
    "print(len(a))\n"
   ]
  },
  {
   "cell_type": "markdown",
   "id": "064927ef-9292-4194-a278-f7a9725321f0",
   "metadata": {},
   "source": [
    "Ex24"
   ]
  },
  {
   "cell_type": "code",
   "execution_count": 74,
   "id": "ce41a428-35d7-4920-9d73-040cf9e872a6",
   "metadata": {},
   "outputs": [
    {
     "name": "stdout",
     "output_type": "stream",
     "text": [
      "True\n"
     ]
    }
   ],
   "source": [
    "txt = \"The best things in life are free!\"\n",
    "print(\"free\" in txt)"
   ]
  },
  {
   "cell_type": "markdown",
   "id": "4034c971-b407-4eb4-9893-44e3b7fafa97",
   "metadata": {},
   "source": [
    "Ex25"
   ]
  },
  {
   "cell_type": "code",
   "execution_count": 77,
   "id": "41f2040a-9d8d-4f2c-9c59-5c34732364af",
   "metadata": {},
   "outputs": [
    {
     "name": "stdout",
     "output_type": "stream",
     "text": [
      "Yes, 'free' is present.\n"
     ]
    }
   ],
   "source": [
    "txt = \"The best things in life are free!\"\n",
    "if \"free\" in txt:\n",
    "  print(\"Yes, 'free' is present.\")"
   ]
  },
  {
   "cell_type": "markdown",
   "id": "1ee69ee2-d788-454e-bb52-55367c5bf68b",
   "metadata": {},
   "source": [
    "Ex26"
   ]
  },
  {
   "cell_type": "code",
   "execution_count": 80,
   "id": "5e8a40f1-67f4-40c8-8bfb-6f5d47e1bd25",
   "metadata": {},
   "outputs": [
    {
     "name": "stdout",
     "output_type": "stream",
     "text": [
      "No, 'expensive' is NOT present.\n"
     ]
    }
   ],
   "source": [
    "txt = \"The best things in life are free!\"\n",
    "if \"expensive\" not in txt:\n",
    "  print(\"No, 'expensive' is NOT present.\")"
   ]
  },
  {
   "cell_type": "markdown",
   "id": "a9be436d-40ab-4203-83eb-4be682883006",
   "metadata": {},
   "source": [
    "Ex27"
   ]
  },
  {
   "cell_type": "code",
   "execution_count": 83,
   "id": "1d7416c9-5e03-49aa-8e66-15f4b8bd1455",
   "metadata": {},
   "outputs": [
    {
     "name": "stdout",
     "output_type": "stream",
     "text": [
      "Hello\n"
     ]
    }
   ],
   "source": [
    "b = \"Hello, World!\"\n",
    "print(b[:5])"
   ]
  },
  {
   "cell_type": "markdown",
   "id": "5b0045a3-5594-4a9f-8509-3d0ce219963e",
   "metadata": {},
   "source": [
    "Ex28"
   ]
  },
  {
   "cell_type": "code",
   "execution_count": 86,
   "id": "8249e988-500d-4fa0-a942-2baf5ea8fd1a",
   "metadata": {},
   "outputs": [
    {
     "name": "stdout",
     "output_type": "stream",
     "text": [
      "orl\n"
     ]
    }
   ],
   "source": [
    "b = \"Hello, World!\"\n",
    "print(b[-5:-2])"
   ]
  },
  {
   "cell_type": "markdown",
   "id": "f135978b-faf0-488c-9d74-b6931c448e8a",
   "metadata": {},
   "source": [
    "Ex29"
   ]
  },
  {
   "cell_type": "code",
   "execution_count": 89,
   "id": "911fc4bc-c648-4bc5-a807-81ccb2c21a15",
   "metadata": {},
   "outputs": [
    {
     "name": "stdout",
     "output_type": "stream",
     "text": [
      "HELLO, WORLD!\n"
     ]
    }
   ],
   "source": [
    "a = \"Hello, World!\"\n",
    "print(a.upper())"
   ]
  },
  {
   "cell_type": "markdown",
   "id": "071f6969-05b9-4f99-8875-e38e9d6cc6fc",
   "metadata": {},
   "source": [
    "Ex30"
   ]
  },
  {
   "cell_type": "code",
   "execution_count": 92,
   "id": "e8ff05e7-76bd-471e-ada3-a077b79a7af2",
   "metadata": {},
   "outputs": [
    {
     "name": "stdout",
     "output_type": "stream",
     "text": [
      "hello, world!\n"
     ]
    }
   ],
   "source": [
    "a = \"Hello, World!\"\n",
    "print(a.lower())"
   ]
  },
  {
   "cell_type": "markdown",
   "id": "385aa592-fafd-4fb0-87b3-649e1aa87e7c",
   "metadata": {},
   "source": [
    "Ex31"
   ]
  },
  {
   "cell_type": "code",
   "execution_count": 95,
   "id": "8539b352-c331-4617-98c3-f88ca4377b3f",
   "metadata": {},
   "outputs": [
    {
     "name": "stdout",
     "output_type": "stream",
     "text": [
      "Jello, World!\n"
     ]
    }
   ],
   "source": [
    "a = \"Hello, World!\"\n",
    "print(a.replace(\"H\", \"J\"))"
   ]
  },
  {
   "cell_type": "markdown",
   "id": "ab829577-0e74-4315-8598-af9b192a6381",
   "metadata": {},
   "source": [
    "Ex32"
   ]
  },
  {
   "cell_type": "code",
   "execution_count": 98,
   "id": "926843a2-1bf1-4e0f-ad0f-7507695ca45a",
   "metadata": {},
   "outputs": [
    {
     "name": "stdout",
     "output_type": "stream",
     "text": [
      "['Hello', ' World!']\n"
     ]
    }
   ],
   "source": [
    "a = \"Hello, World!\"\n",
    "b = a.split(\",\")\n",
    "print(b)"
   ]
  },
  {
   "cell_type": "markdown",
   "id": "bf642c74-e5aa-4c0a-884c-7c1aee15e8d5",
   "metadata": {},
   "source": [
    "Ex33"
   ]
  },
  {
   "cell_type": "code",
   "execution_count": 101,
   "id": "1e721dcb-2a42-4986-a667-8f35241a2c3c",
   "metadata": {},
   "outputs": [
    {
     "name": "stdout",
     "output_type": "stream",
     "text": [
      "Hello World\n"
     ]
    }
   ],
   "source": [
    "a = \"Hello\"\n",
    "b = \"World\"\n",
    "c = a + \" \" + b\n",
    "print(c)"
   ]
  },
  {
   "cell_type": "markdown",
   "id": "f0e0dfb4-1e5d-4b69-a465-c7df44d6bc73",
   "metadata": {},
   "source": [
    "Ex34"
   ]
  },
  {
   "cell_type": "code",
   "execution_count": 106,
   "id": "da8b9462-54ee-410f-9a63-de769c489de1",
   "metadata": {},
   "outputs": [
    {
     "name": "stdout",
     "output_type": "stream",
     "text": [
      "My name is John, I am 36\n"
     ]
    }
   ],
   "source": [
    "age = 36\n",
    "txt = f\"My name is John, I am {age}\"\n",
    "print(txt)"
   ]
  },
  {
   "cell_type": "markdown",
   "id": "ab45deee-953f-4557-b53e-dadfb00d806f",
   "metadata": {},
   "source": [
    "Ex35"
   ]
  },
  {
   "cell_type": "code",
   "execution_count": 109,
   "id": "7d13b6d2-1f98-48da-86ee-4538887f3425",
   "metadata": {},
   "outputs": [
    {
     "name": "stdout",
     "output_type": "stream",
     "text": [
      "The price is 1180 dollars\n"
     ]
    }
   ],
   "source": [
    "txt = f\"The price is {20 * 59} dollars\"\n",
    "print(txt)"
   ]
  },
  {
   "cell_type": "markdown",
   "id": "3b883b6f-51de-40ea-a15b-ad0c7251db9d",
   "metadata": {},
   "source": [
    "Ex36"
   ]
  },
  {
   "cell_type": "code",
   "execution_count": 112,
   "id": "d7ac8215-3ef2-47d2-9f8d-e1616e3507d0",
   "metadata": {},
   "outputs": [
    {
     "name": "stdout",
     "output_type": "stream",
     "text": [
      "We are the so-called \"Vikings\" from the north.\n"
     ]
    }
   ],
   "source": [
    "txt = \"We are the so-called \\\"Vikings\\\" from the north.\"\n",
    "print(txt) \n"
   ]
  }
 ],
 "metadata": {
  "kernelspec": {
   "display_name": "Python [conda env:base] *",
   "language": "python",
   "name": "conda-base-py"
  },
  "language_info": {
   "codemirror_mode": {
    "name": "ipython",
    "version": 3
   },
   "file_extension": ".py",
   "mimetype": "text/x-python",
   "name": "python",
   "nbconvert_exporter": "python",
   "pygments_lexer": "ipython3",
   "version": "3.12.7"
  }
 },
 "nbformat": 4,
 "nbformat_minor": 5
}

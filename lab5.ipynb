{
 "cells": [
  {
   "cell_type": "markdown",
   "id": "54b73eb0-9cb7-4eb1-bb03-b8c333c1c022",
   "metadata": {},
   "source": [
    "Python RegEx exercises"
   ]
  },
  {
   "cell_type": "markdown",
   "id": "d36f0b40-539c-40ad-bcd8-f29ca6fa2340",
   "metadata": {},
   "source": [
    "ex1"
   ]
  },
  {
   "cell_type": "code",
   "execution_count": 3,
   "id": "b89f9249-2c37-431a-b448-a1557927e5e5",
   "metadata": {},
   "outputs": [
    {
     "name": "stdout",
     "output_type": "stream",
     "text": [
      "True\n",
      "True\n",
      "True\n",
      "False\n",
      "False\n"
     ]
    }
   ],
   "source": [
    "import re\n",
    "\n",
    "def match_pattern(text):\n",
    "    return bool(re.fullmatch(r\"ab*\", text))\n",
    "\n",
    "print(match_pattern(\"a\"))    \n",
    "print(match_pattern(\"ab\"))   \n",
    "print(match_pattern(\"abb\"))  \n",
    "print(match_pattern(\"ac\"))   \n",
    "print(match_pattern(\"b\"))   "
   ]
  },
  {
   "cell_type": "markdown",
   "id": "1109b20b-e7f7-41ed-be1a-18c9ec41b18a",
   "metadata": {},
   "source": [
    "ex2"
   ]
  },
  {
   "cell_type": "code",
   "execution_count": 6,
   "id": "baf42c94-e681-47bb-965e-5ff5e44ea0a7",
   "metadata": {},
   "outputs": [
    {
     "name": "stdout",
     "output_type": "stream",
     "text": [
      "True\n",
      "True\n",
      "False\n",
      "False\n",
      "False\n"
     ]
    }
   ],
   "source": [
    "import re\n",
    "\n",
    "def match_pattern(text):\n",
    "    return bool(re.fullmatch(r\"ab{2,3}\", text))\n",
    "\n",
    "print(match_pattern(\"abb\"))   \n",
    "print(match_pattern(\"abbb\"))  \n",
    "print(match_pattern(\"a\"))     \n",
    "print(match_pattern(\"abbbb\")) \n",
    "print(match_pattern(\"abc\"))   "
   ]
  },
  {
   "cell_type": "markdown",
   "id": "f0e82062-deee-4ead-816c-6e6ef557fd1c",
   "metadata": {},
   "source": [
    "ex3"
   ]
  },
  {
   "cell_type": "code",
   "execution_count": 9,
   "id": "76fa446a-2e88-49aa-8888-042efcbff164",
   "metadata": {},
   "outputs": [
    {
     "name": "stdout",
     "output_type": "stream",
     "text": [
      "['hello_world', 'test_case']\n",
      "['snake_case', 'another_example']\n",
      "['no_match']\n"
     ]
    }
   ],
   "source": [
    "import re\n",
    "\n",
    "def find_sequences(text):\n",
    "    return re.findall(r\"[a-z]+_[a-z]+\", text)\n",
    "\n",
    "print(find_sequences(\"hello_world test_case example\"))  \n",
    "print(find_sequences(\"snake_case another_example Test_Example\"))  \n",
    "print(find_sequences(\"no_match_here\"))  "
   ]
  },
  {
   "cell_type": "markdown",
   "id": "e60fb60a-9d12-40ce-94c1-921875373fc0",
   "metadata": {},
   "source": [
    "ex4"
   ]
  },
  {
   "cell_type": "code",
   "execution_count": 12,
   "id": "0ed8c537-d157-4354-85d1-832532a3794f",
   "metadata": {},
   "outputs": [
    {
     "name": "stdout",
     "output_type": "stream",
     "text": [
      "['Hello', 'World', 'Test', 'Example']\n",
      "['Python', 'Fun']\n",
      "['Test', 'Case', 'Match']\n",
      "['Match']\n"
     ]
    }
   ],
   "source": [
    "import re\n",
    "\n",
    "def find_sequences(text):\n",
    "    return re.findall(r\"[A-Z][a-z]+\", text)\n",
    "\n",
    "print(find_sequences(\"Hello World Test Example\"))  \n",
    "print(find_sequences(\"Python is Fun\"))  \n",
    "print(find_sequences(\"ABC TestCase Match\"))  \n",
    "print(find_sequences(\"noMatch\"))  "
   ]
  },
  {
   "cell_type": "markdown",
   "id": "d49d7c4a-e631-45af-acf0-bf62562e0fbb",
   "metadata": {},
   "source": [
    "ex5"
   ]
  },
  {
   "cell_type": "code",
   "execution_count": 15,
   "id": "8fc52a2d-5415-4753-846d-b7e425135d78",
   "metadata": {},
   "outputs": [
    {
     "name": "stdout",
     "output_type": "stream",
     "text": [
      "True\n",
      "True\n",
      "True\n",
      "False\n",
      "False\n",
      "True\n"
     ]
    }
   ],
   "source": [
    "import re\n",
    "\n",
    "def match_pattern(text):\n",
    "    return bool(re.fullmatch(r\"a.*b\", text))\n",
    "\n",
    "print(match_pattern(\"axb\"))    \n",
    "print(match_pattern(\"ab\"))     \n",
    "print(match_pattern(\"acdb\"))   \n",
    "print(match_pattern(\"a\"))      \n",
    "print(match_pattern(\"abc\"))    \n",
    "print(match_pattern(\"a123b\"))  "
   ]
  },
  {
   "cell_type": "markdown",
   "id": "8c8b0b8d-ffcc-45af-9b30-89667cccb468",
   "metadata": {},
   "source": [
    "ex6"
   ]
  },
  {
   "cell_type": "code",
   "execution_count": 18,
   "id": "ec613d7a-a913-49f8-8557-deb4a905dfd8",
   "metadata": {},
   "outputs": [
    {
     "name": "stdout",
     "output_type": "stream",
     "text": [
      "Hello::world::How:are:you?\n",
      "Python:is:great::isn't:it?:Yes:\n",
      "This:is:a:test::with:multiple:sentences:\n"
     ]
    }
   ],
   "source": [
    "import re\n",
    "\n",
    "def replace_chars(text):\n",
    "    return re.sub(r\"[ ,.]\", \":\", text)\n",
    "\n",
    "print(replace_chars(\"Hello, world. How are you?\"))  \n",
    "print(replace_chars(\"Python is great, isn't it? Yes.\"))\n",
    "print(replace_chars(\"This is a test, with multiple sentences.\"))"
   ]
  },
  {
   "cell_type": "markdown",
   "id": "fa66e3e7-84aa-4b96-b75d-a57ad62c6a1c",
   "metadata": {},
   "source": [
    "ex7"
   ]
  },
  {
   "cell_type": "code",
   "execution_count": 21,
   "id": "8db7fb07-23a5-4eb1-94e4-f654afa0d635",
   "metadata": {},
   "outputs": [
    {
     "name": "stdout",
     "output_type": "stream",
     "text": [
      "HelloWorldTest\n",
      "SnakeCaseExample\n",
      "ConvertThisString\n"
     ]
    }
   ],
   "source": [
    "def snake_to_camel(text):\n",
    "    return \"\".join(word.capitalize() for word in text.split(\"_\"))\n",
    "\n",
    "print(snake_to_camel(\"hello_world_test\"))  \n",
    "print(snake_to_camel(\"snake_case_example\"))  \n",
    "print(snake_to_camel(\"convert_this_string\"))  "
   ]
  },
  {
   "cell_type": "markdown",
   "id": "ca904fc8-d198-4fcc-8646-dea7178ac987",
   "metadata": {},
   "source": [
    "ex8"
   ]
  },
  {
   "cell_type": "code",
   "execution_count": 24,
   "id": "963847e4-239f-4205-893f-06c8a776af7e",
   "metadata": {},
   "outputs": [
    {
     "name": "stdout",
     "output_type": "stream",
     "text": [
      "['', 'Hello', 'World', 'Test']\n",
      "['', 'Split', 'At', 'Upper', 'Case']\n",
      "['', 'Python', 'Is', 'Awesome']\n"
     ]
    }
   ],
   "source": [
    "import re\n",
    "\n",
    "def split_uppercase(text):\n",
    "    return re.split(r\"(?=[A-Z])\", text)\n",
    "\n",
    "print(split_uppercase(\"HelloWorldTest\"))  \n",
    "print(split_uppercase(\"SplitAtUpperCase\"))  \n",
    "print(split_uppercase(\"PythonIsAwesome\"))  "
   ]
  },
  {
   "cell_type": "markdown",
   "id": "b1f9c788-66b7-41a7-9df0-9e390bda9865",
   "metadata": {},
   "source": [
    "ex9"
   ]
  },
  {
   "cell_type": "code",
   "execution_count": 27,
   "id": "f2920f5c-54dc-4ee4-9897-346f21b7dccb",
   "metadata": {},
   "outputs": [
    {
     "name": "stdout",
     "output_type": "stream",
     "text": [
      "Hello World Test\n",
      "Insert Spaces Between Words\n",
      "Python Is Awesome\n"
     ]
    }
   ],
   "source": [
    "import re\n",
    "\n",
    "def insert_spaces(text):\n",
    "    return re.sub(r\"([a-z])([A-Z])\", r\"\\1 \\2\", text)\n",
    "\n",
    "print(insert_spaces(\"HelloWorldTest\"))  \n",
    "print(insert_spaces(\"InsertSpacesBetweenWords\"))  \n",
    "print(insert_spaces(\"PythonIsAwesome\"))  "
   ]
  },
  {
   "cell_type": "markdown",
   "id": "d8d6feee-e210-42c0-a9e0-aecf073b84c7",
   "metadata": {},
   "source": [
    "ex10"
   ]
  },
  {
   "cell_type": "code",
   "execution_count": 30,
   "id": "a33c886b-5079-4128-af64-fa0091ea2a52",
   "metadata": {},
   "outputs": [
    {
     "name": "stdout",
     "output_type": "stream",
     "text": [
      "hello_world_test\n",
      "convert_this_string\n",
      "python_is_awesome\n"
     ]
    }
   ],
   "source": [
    "import re\n",
    "\n",
    "def camel_to_snake(text):\n",
    "    return re.sub(r\"([A-Z])\", r\"_\\1\", text).lower().lstrip(\"_\")\n",
    "\n",
    "print(camel_to_snake(\"HelloWorldTest\"))  \n",
    "print(camel_to_snake(\"ConvertThisString\"))  \n",
    "print(camel_to_snake(\"PythonIsAwesome\"))  "
   ]
  }
 ],
 "metadata": {
  "kernelspec": {
   "display_name": "Python [conda env:base] *",
   "language": "python",
   "name": "conda-base-py"
  },
  "language_info": {
   "codemirror_mode": {
    "name": "ipython",
    "version": 3
   },
   "file_extension": ".py",
   "mimetype": "text/x-python",
   "name": "python",
   "nbconvert_exporter": "python",
   "pygments_lexer": "ipython3",
   "version": "3.12.7"
  }
 },
 "nbformat": 4,
 "nbformat_minor": 5
}
